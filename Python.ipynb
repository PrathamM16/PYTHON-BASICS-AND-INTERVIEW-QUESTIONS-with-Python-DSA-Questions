{
 "cells": [
  {
   "cell_type": "markdown",
   "metadata": {},
   "source": [
    "# PYTHON BASICS AND INTERVIEW QUESTIONS with Python DSA Questions\n",
    "\n"
   ]
  },
  {
   "cell_type": "markdown",
   "metadata": {},
   "source": [
    "# BY PRATHAM M\n"
   ]
  },
  {
   "cell_type": "markdown",
   "metadata": {},
   "source": [
    "Print Function\n"
   ]
  },
  {
   "cell_type": "code",
   "execution_count": 1,
   "metadata": {},
   "outputs": [
    {
     "name": "stdout",
     "output_type": "stream",
     "text": [
      "Hi I am pratham\n",
      "welcome to Learning2Infinity\n"
     ]
    }
   ],
   "source": [
    "print(\"Hi I am pratham\")\n",
    "print(\"welcome to Learning2Infinity\" )"
   ]
  },
  {
   "cell_type": "markdown",
   "metadata": {},
   "source": [
    "#Variables in Python1"
   ]
  },
  {
   "cell_type": "code",
   "execution_count": 2,
   "metadata": {},
   "outputs": [
    {
     "name": "stdout",
     "output_type": "stream",
     "text": [
      "Pratham\n",
      "youtube channel\n"
     ]
    }
   ],
   "source": [
    "name=\"Pratham\"\n",
    "print(name)\n",
    "\n",
    "a=\"youtube channel\"\n",
    "print(a)"
   ]
  },
  {
   "cell_type": "markdown",
   "metadata": {},
   "source": [
    "Once a varible is defined. the data inside it can be accesseed when ever we want just by using varibale name"
   ]
  },
  {
   "cell_type": "code",
   "execution_count": 3,
   "metadata": {},
   "outputs": [
    {
     "name": "stdout",
     "output_type": "stream",
     "text": [
      "youtube channel\n"
     ]
    }
   ],
   "source": [
    "print(a)"
   ]
  },
  {
   "cell_type": "markdown",
   "metadata": {},
   "source": [
    "Accessing Varibales in any of statement"
   ]
  },
  {
   "cell_type": "code",
   "execution_count": 4,
   "metadata": {},
   "outputs": [
    {
     "name": "stdout",
     "output_type": "stream",
     "text": [
      "Prathamis a youtuber\n",
      "Prathamis teaching python\n",
      "Prathamis a proud Kannadiga\n"
     ]
    }
   ],
   "source": [
    "print(name+'is a youtuber')\n",
    "print(name+'is teaching python')\n",
    "print(name+'is a proud Kannadiga')"
   ]
  },
  {
   "cell_type": "markdown",
   "metadata": {},
   "source": [
    "##################Strings in Python"
   ]
  },
  {
   "cell_type": "code",
   "execution_count": 5,
   "metadata": {},
   "outputs": [
    {
     "name": "stdout",
     "output_type": "stream",
     "text": [
      "Hello. I am Pratham\n",
      "Hello.\n",
      "I am Pratham\n"
     ]
    }
   ],
   "source": [
    "print('Hello. I am Pratham')\n",
    "print('Hello.\\nI am Pratham') #print in next line use \\n\n"
   ]
  },
  {
   "cell_type": "markdown",
   "metadata": {},
   "source": [
    "#Indexing In python for string"
   ]
  },
  {
   "cell_type": "markdown",
   "metadata": {},
   "source": [
    " Indexing is the process of accessing individual elements in a sequence data type, such as strings, lists, tuples, and arrays. Indexing in Python is zero-based, meaning the first element has an index of 0, the second has an index of 1, and so on"
   ]
  },
  {
   "cell_type": "code",
   "execution_count": 6,
   "metadata": {},
   "outputs": [
    {
     "name": "stdout",
     "output_type": "stream",
     "text": [
      "y\n",
      "u\n",
      "a\n"
     ]
    }
   ],
   "source": [
    "print(a[0])\n",
    "print(a[2])\n",
    "print(a[10])"
   ]
  },
  {
   "cell_type": "markdown",
   "metadata": {},
   "source": [
    "TO change to Uppercase and Lowercase\n"
   ]
  },
  {
   "cell_type": "code",
   "execution_count": 7,
   "metadata": {},
   "outputs": [
    {
     "name": "stdout",
     "output_type": "stream",
     "text": [
      "Pratham\n",
      "False\n",
      "PRATHAM\n",
      "False\n",
      "pratham\n"
     ]
    }
   ],
   "source": [
    "print(name)\n",
    "b=name.isupper()\n",
    "print(b)\n",
    "c=name.upper()\n",
    "print(c)\n",
    "\n",
    "\n",
    "d=name.islower()\n",
    "print(d)\n",
    "e=name.lower()\n",
    "print(e)\n",
    "\n"
   ]
  },
  {
   "cell_type": "markdown",
   "metadata": {},
   "source": [
    "to find the length"
   ]
  },
  {
   "cell_type": "code",
   "execution_count": 8,
   "metadata": {},
   "outputs": [
    {
     "data": {
      "text/plain": [
       "7"
      ]
     },
     "execution_count": 8,
     "metadata": {},
     "output_type": "execute_result"
    }
   ],
   "source": [
    "name\n",
    "len(name)"
   ]
  },
  {
   "cell_type": "markdown",
   "metadata": {},
   "source": [
    "How to get index number"
   ]
  },
  {
   "cell_type": "code",
   "execution_count": 9,
   "metadata": {},
   "outputs": [
    {
     "name": "stdout",
     "output_type": "stream",
     "text": [
      "Pratham\n",
      "0\n",
      "2\n",
      "6\n"
     ]
    }
   ],
   "source": [
    "print(name)\n",
    "n1=name.index('P')\n",
    "print(n1)\n",
    "\n",
    "n2=name.index('a')\n",
    "print(n2)\n",
    "n3=name.index('m')\n",
    "print(n3)"
   ]
  },
  {
   "cell_type": "markdown",
   "metadata": {},
   "source": [
    "REPLACING THE LETTER "
   ]
  },
  {
   "cell_type": "code",
   "execution_count": 10,
   "metadata": {},
   "outputs": [
    {
     "name": "stdout",
     "output_type": "stream",
     "text": [
      "Pratham\n",
      "PrathaM\n"
     ]
    }
   ],
   "source": [
    "print(name)\n",
    "print(name.replace('m','M'))"
   ]
  },
  {
   "cell_type": "markdown",
   "metadata": {},
   "source": [
    "Numbers in Python"
   ]
  },
  {
   "cell_type": "code",
   "execution_count": 11,
   "metadata": {},
   "outputs": [
    {
     "name": "stdout",
     "output_type": "stream",
     "text": [
      "30\n",
      "16\n",
      "Airthemetic Operations\n",
      "46\n",
      "14\n",
      "480\n",
      "1.875\n",
      "14\n",
      "430467210000000000000000\n"
     ]
    }
   ],
   "source": [
    "print(30)\n",
    "number=16\n",
    "print(number)\n",
    "\n",
    "\n",
    "#Basic Airthmetic operations \n",
    "a=30\n",
    "b=16\n",
    "print('Airthemetic Operations')\n",
    "print(a+b)\n",
    "print(a-b)\n",
    "print(a*b)\n",
    "print(a/b)\n",
    "print(a%b)\n",
    "print(a**b)\n",
    "\n"
   ]
  },
  {
   "cell_type": "markdown",
   "metadata": {},
   "source": [
    "How to Concatenate "
   ]
  },
  {
   "cell_type": "code",
   "execution_count": 12,
   "metadata": {},
   "outputs": [
    {
     "name": "stdout",
     "output_type": "stream",
     "text": [
      "The number is 30\n"
     ]
    }
   ],
   "source": [
    "num1=30\n",
    "num2=str(num1)\n",
    "#print('number is'+num1)   return error\n",
    "print('The number is '+num2)"
   ]
  },
  {
   "cell_type": "markdown",
   "metadata": {},
   "source": [
    "absolute abs function"
   ]
  },
  {
   "cell_type": "code",
   "execution_count": 13,
   "metadata": {},
   "outputs": [
    {
     "name": "stdout",
     "output_type": "stream",
     "text": [
      "-5\n",
      "5\n"
     ]
    }
   ],
   "source": [
    "print(-5)\n",
    "print(abs(-5))"
   ]
  },
  {
   "cell_type": "markdown",
   "metadata": {},
   "source": [
    "Max Function"
   ]
  },
  {
   "cell_type": "code",
   "execution_count": 14,
   "metadata": {},
   "outputs": [
    {
     "name": "stdout",
     "output_type": "stream",
     "text": [
      "the max number is 30\n"
     ]
    }
   ],
   "source": [
    "a=30\n",
    "b=16\n",
    "c=27\n",
    "d=max(a,b,c)\n",
    "print('the max number is',d)"
   ]
  },
  {
   "cell_type": "markdown",
   "metadata": {},
   "source": [
    "Round Function"
   ]
  },
  {
   "cell_type": "code",
   "execution_count": 15,
   "metadata": {},
   "outputs": [
    {
     "name": "stdout",
     "output_type": "stream",
     "text": [
      "4\n",
      "2\n",
      "2335\n"
     ]
    }
   ],
   "source": [
    "print(round(3.5))\n",
    "print(round(2.333333))\n",
    "a1=2334.6667\n",
    "print(round(a1))"
   ]
  },
  {
   "cell_type": "markdown",
   "metadata": {},
   "source": [
    "bin Function- convert into binary "
   ]
  },
  {
   "cell_type": "code",
   "execution_count": 16,
   "metadata": {},
   "outputs": [
    {
     "name": "stdout",
     "output_type": "stream",
     "text": [
      "0b11110\n",
      "0b10000\n"
     ]
    }
   ],
   "source": [
    "a=30\n",
    "b=16\n",
    "print(bin(a))\n",
    "print(bin(b))"
   ]
  },
  {
   "cell_type": "code",
   "execution_count": 17,
   "metadata": {},
   "outputs": [
    {
     "name": "stdout",
     "output_type": "stream",
     "text": [
      "10.0\n",
      "12.0\n"
     ]
    }
   ],
   "source": [
    "from math import *\n",
    "print(sqrt(100))\n",
    "print(sqrt(144))"
   ]
  },
  {
   "cell_type": "markdown",
   "metadata": {},
   "source": [
    "Get user input"
   ]
  },
  {
   "cell_type": "code",
   "execution_count": 18,
   "metadata": {},
   "outputs": [
    {
     "name": "stdout",
     "output_type": "stream",
     "text": [
      "pratham\n",
      "21\n",
      "The name is pratham The age is21\n"
     ]
    }
   ],
   "source": [
    "name1=input('Input ur name:')\n",
    "age=input('Input the age:')\n",
    "print(name1)\n",
    "print(int(age))\n",
    "print(\"The name is \"+name1+\" The age is\"+age)"
   ]
  },
  {
   "cell_type": "markdown",
   "metadata": {},
   "source": [
    "Replace Function"
   ]
  },
  {
   "cell_type": "code",
   "execution_count": 19,
   "metadata": {},
   "outputs": [
    {
     "name": "stdout",
     "output_type": "stream",
     "text": [
      "You sentence isHi how are ur day ?\n",
      "Hi how is ur day ?\n"
     ]
    }
   ],
   "source": [
    "string=input('Enter the Sentence:')\n",
    "print('You sentence is'+string)\n",
    "word1=input('enter to replace')\n",
    "word2=input('enter the word to replace it with')\n",
    "print(string.replace(word1,word2))"
   ]
  },
  {
   "cell_type": "markdown",
   "metadata": {},
   "source": [
    "List In Python"
   ]
  },
  {
   "cell_type": "code",
   "execution_count": 42,
   "metadata": {},
   "outputs": [
    {
     "name": "stdout",
     "output_type": "stream",
     "text": [
      "['Karnataka', 'TN', 'Andra', 'Telangana', 'kerala']\n",
      "Karnataka\n",
      "r\n",
      "['Karnataka', 'TN', 'Andra', 'Telangana', 'kerala']\n",
      "['TN', 'Andra', 'Telangana', 'kerala']\n",
      "['Andra', 'Telangana', 'kerala']\n",
      "['TN', 'Andra']\n",
      "['Karnataka', 'TN', 'Andra']\n",
      "['kerala']\n",
      "[]\n",
      "['Andra', 'Telangana', 'kerala']\n",
      "['TN', 'Andra', 'Telangana']\n",
      "<class 'list'>\n",
      "5\n",
      "['karntaka', 30, True, 'Andra']\n",
      "<class 'str'>\n",
      "<class 'int'>\n",
      "<class 'bool'>\n",
      "<class 'str'>\n"
     ]
    }
   ],
   "source": [
    "states=['Karnataka','TN','Andra','Telangana','kerala']\n",
    "print(states)\n",
    "print(states[0])\n",
    "print(states[0][2])\n",
    "print(states[0:])\n",
    "print(states[1:])\n",
    "print(states[2:])\n",
    "print(states[1:3])\n",
    "print(states[:-2])\n",
    "print(states[-1:])\n",
    "print(states[-2:-3])\n",
    "print(states[-3:])\n",
    "print(states[-4:-1])\n",
    "\n",
    "print(type(states))\n",
    "print(len(states))\n",
    "\n",
    "state1=['karntaka',30,True,'Andra']\n",
    "print(state1)\n",
    "print(type(state1[0]))\n",
    "print(type(state1[1]))\n",
    "print(type(state1[2]))\n",
    "print(type(state1[3]))"
   ]
  },
  {
   "cell_type": "markdown",
   "metadata": {},
   "source": [
    "Change the word in list"
   ]
  },
  {
   "cell_type": "code",
   "execution_count": 31,
   "metadata": {},
   "outputs": [
    {
     "name": "stdout",
     "output_type": "stream",
     "text": [
      "['Karnataka', 'TN', 'Andra', 'Telangana', 'kerala']\n",
      "['Karnataka', 'TamilNadu', 'Andra', 'Telangana', 'kerala']\n"
     ]
    }
   ],
   "source": [
    "print(states)\n",
    "states[1]='TamilNadu'\n",
    "print(states)"
   ]
  },
  {
   "cell_type": "code",
   "execution_count": null,
   "metadata": {},
   "outputs": [],
   "source": [
    "#COMPLETED VIDEO TILL 1hr"
   ]
  },
  {
   "cell_type": "code",
   "execution_count": 1,
   "metadata": {},
   "outputs": [
    {
     "name": "stdout",
     "output_type": "stream",
     "text": [
      "Square pattern:\n",
      "* * * * * \n",
      "* * * * * \n",
      "* * * * * \n",
      "* * * * * \n",
      "* * * * * \n",
      "\n",
      "Triangle pattern:\n",
      "* \n",
      "* * \n",
      "* * * \n",
      "* * * * \n",
      "* * * * * \n",
      "\n",
      "Reverse Triangle pattern:\n",
      "* * * * * \n",
      "* * * * \n",
      "* * * \n",
      "* * \n",
      "* \n",
      "\n",
      "Right Angle Triangle pattern:\n",
      "    * \n",
      "   * * \n",
      "  * * * \n",
      " * * * * \n",
      "* * * * * \n",
      "\n",
      "Pyramid pattern:\n",
      "    * \n",
      "   * * * \n",
      "  * * * * * \n",
      " * * * * * * * \n",
      "* * * * * * * * * \n",
      "\n",
      "Reverse Pyramid pattern:\n",
      "* * * * * * * * * \n",
      " * * * * * * * \n",
      "  * * * * * \n",
      "   * * * \n",
      "    * \n"
     ]
    }
   ],
   "source": [
    "def print_square_pattern(n):\n",
    "    for i in range(n):\n",
    "        print('* ' * n)\n",
    "\n",
    "def print_triangle_pattern(n):\n",
    "    for i in range(1, n + 1):\n",
    "        print('* ' * i)\n",
    "\n",
    "def print_reverse_triangle_pattern(n):\n",
    "    for i in range(n, 0, -1):\n",
    "        print('* ' * i)\n",
    "\n",
    "def print_right_angle_triangle_pattern(n):\n",
    "    for i in range(1, n + 1):\n",
    "        print(' ' * (n - i) + '* ' * i)\n",
    "\n",
    "def print_pyramid_pattern(n):\n",
    "    for i in range(1, n + 1):\n",
    "        print(' ' * (n - i) + '* ' * (2 * i - 1))\n",
    "\n",
    "def print_reverse_pyramid_pattern(n):\n",
    "    for i in range(n, 0, -1):\n",
    "        print(' ' * (n - i) + '* ' * (2 * i - 1))\n",
    "\n",
    "# Example usage:\n",
    "print(\"Square pattern:\")\n",
    "print_square_pattern(5)\n",
    "print(\"\\nTriangle pattern:\")\n",
    "print_triangle_pattern(5)\n",
    "print(\"\\nReverse Triangle pattern:\")\n",
    "print_reverse_triangle_pattern(5)\n",
    "print(\"\\nRight Angle Triangle pattern:\")\n",
    "print_right_angle_triangle_pattern(5)\n",
    "print(\"\\nPyramid pattern:\")\n",
    "print_pyramid_pattern(5)\n",
    "print(\"\\nReverse Pyramid pattern:\")\n",
    "print_reverse_pyramid_pattern(5)\n"
   ]
  },
  {
   "cell_type": "code",
   "execution_count": 1,
   "metadata": {},
   "outputs": [
    {
     "name": "stdout",
     "output_type": "stream",
     "text": [
      "Defaulting to user installation because normal site-packages is not writeable\n",
      "Requirement already satisfied: tensorflow in c:\\users\\pratham.m\\appdata\\roaming\\python\\python37\\site-packages (2.11.0)\n",
      "Requirement already satisfied: keras in c:\\users\\pratham.m\\appdata\\roaming\\python\\python37\\site-packages (2.11.0)\n",
      "Requirement already satisfied: numpy in c:\\users\\pratham.m\\appdata\\roaming\\python\\python37\\site-packages (1.21.6)\n",
      "Collecting matplotlib\n",
      "  Downloading matplotlib-3.5.3-cp37-cp37m-win_amd64.whl.metadata (6.7 kB)\n",
      "Requirement already satisfied: tensorflow-intel==2.11.0 in c:\\users\\pratham.m\\appdata\\roaming\\python\\python37\\site-packages (from tensorflow) (2.11.0)\n",
      "Requirement already satisfied: absl-py>=1.0.0 in c:\\users\\pratham.m\\appdata\\roaming\\python\\python37\\site-packages (from tensorflow-intel==2.11.0->tensorflow) (2.1.0)\n",
      "Requirement already satisfied: astunparse>=1.6.0 in c:\\users\\pratham.m\\appdata\\roaming\\python\\python37\\site-packages (from tensorflow-intel==2.11.0->tensorflow) (1.6.3)\n",
      "Requirement already satisfied: flatbuffers>=2.0 in c:\\users\\pratham.m\\appdata\\roaming\\python\\python37\\site-packages (from tensorflow-intel==2.11.0->tensorflow) (23.5.26)\n",
      "Requirement already satisfied: gast<=0.4.0,>=0.2.1 in c:\\users\\pratham.m\\appdata\\roaming\\python\\python37\\site-packages (from tensorflow-intel==2.11.0->tensorflow) (0.4.0)\n",
      "Requirement already satisfied: google-pasta>=0.1.1 in c:\\users\\pratham.m\\appdata\\roaming\\python\\python37\\site-packages (from tensorflow-intel==2.11.0->tensorflow) (0.2.0)\n",
      "Requirement already satisfied: h5py>=2.9.0 in c:\\users\\pratham.m\\appdata\\roaming\\python\\python37\\site-packages (from tensorflow-intel==2.11.0->tensorflow) (3.8.0)\n",
      "Requirement already satisfied: libclang>=13.0.0 in c:\\users\\pratham.m\\appdata\\roaming\\python\\python37\\site-packages (from tensorflow-intel==2.11.0->tensorflow) (16.0.6)\n",
      "Requirement already satisfied: opt-einsum>=2.3.2 in c:\\users\\pratham.m\\appdata\\roaming\\python\\python37\\site-packages (from tensorflow-intel==2.11.0->tensorflow) (3.3.0)\n",
      "Requirement already satisfied: packaging in c:\\users\\pratham.m\\appdata\\roaming\\python\\python37\\site-packages (from tensorflow-intel==2.11.0->tensorflow) (23.2)\n",
      "Requirement already satisfied: protobuf<3.20,>=3.9.2 in c:\\users\\pratham.m\\appdata\\roaming\\python\\python37\\site-packages (from tensorflow-intel==2.11.0->tensorflow) (3.19.6)\n",
      "Requirement already satisfied: setuptools in c:\\program files\\python37\\lib\\site-packages (from tensorflow-intel==2.11.0->tensorflow) (47.1.0)\n",
      "Requirement already satisfied: six>=1.12.0 in c:\\users\\pratham.m\\appdata\\roaming\\python\\python37\\site-packages (from tensorflow-intel==2.11.0->tensorflow) (1.16.0)\n",
      "Requirement already satisfied: termcolor>=1.1.0 in c:\\users\\pratham.m\\appdata\\roaming\\python\\python37\\site-packages (from tensorflow-intel==2.11.0->tensorflow) (2.3.0)\n",
      "Requirement already satisfied: typing-extensions>=3.6.6 in c:\\users\\pratham.m\\appdata\\roaming\\python\\python37\\site-packages (from tensorflow-intel==2.11.0->tensorflow) (4.7.1)\n",
      "Requirement already satisfied: wrapt>=1.11.0 in c:\\users\\pratham.m\\appdata\\roaming\\python\\python37\\site-packages (from tensorflow-intel==2.11.0->tensorflow) (1.16.0)\n",
      "Requirement already satisfied: grpcio<2.0,>=1.24.3 in c:\\users\\pratham.m\\appdata\\roaming\\python\\python37\\site-packages (from tensorflow-intel==2.11.0->tensorflow) (1.62.0)\n",
      "Requirement already satisfied: tensorboard<2.12,>=2.11 in c:\\users\\pratham.m\\appdata\\roaming\\python\\python37\\site-packages (from tensorflow-intel==2.11.0->tensorflow) (2.11.2)\n",
      "Requirement already satisfied: tensorflow-estimator<2.12,>=2.11.0 in c:\\users\\pratham.m\\appdata\\roaming\\python\\python37\\site-packages (from tensorflow-intel==2.11.0->tensorflow) (2.11.0)\n",
      "Requirement already satisfied: tensorflow-io-gcs-filesystem>=0.23.1 in c:\\users\\pratham.m\\appdata\\roaming\\python\\python37\\site-packages (from tensorflow-intel==2.11.0->tensorflow) (0.31.0)\n",
      "Collecting cycler>=0.10 (from matplotlib)\n",
      "  Downloading cycler-0.11.0-py3-none-any.whl.metadata (785 bytes)\n",
      "Collecting fonttools>=4.22.0 (from matplotlib)\n",
      "  Downloading fonttools-4.38.0-py3-none-any.whl.metadata (138 kB)\n",
      "     -------------------------------------- 138.5/138.5 kB 2.8 MB/s eta 0:00:00\n",
      "Collecting kiwisolver>=1.0.1 (from matplotlib)\n",
      "  Downloading kiwisolver-1.4.5-cp37-cp37m-win_amd64.whl.metadata (6.5 kB)\n",
      "Requirement already satisfied: pillow>=6.2.0 in c:\\users\\pratham.m\\appdata\\roaming\\python\\python37\\site-packages (from matplotlib) (9.5.0)\n",
      "Collecting pyparsing>=2.2.1 (from matplotlib)\n",
      "  Downloading pyparsing-3.1.2-py3-none-any.whl.metadata (5.1 kB)\n",
      "Requirement already satisfied: python-dateutil>=2.7 in c:\\users\\pratham.m\\appdata\\roaming\\python\\python37\\site-packages (from matplotlib) (2.9.0.post0)\n",
      "Requirement already satisfied: wheel<1.0,>=0.23.0 in c:\\users\\pratham.m\\appdata\\roaming\\python\\python37\\site-packages (from astunparse>=1.6.0->tensorflow-intel==2.11.0->tensorflow) (0.42.0)\n",
      "Requirement already satisfied: google-auth<3,>=1.6.3 in c:\\users\\pratham.m\\appdata\\roaming\\python\\python37\\site-packages (from tensorboard<2.12,>=2.11->tensorflow-intel==2.11.0->tensorflow) (2.28.1)\n",
      "Requirement already satisfied: google-auth-oauthlib<0.5,>=0.4.1 in c:\\users\\pratham.m\\appdata\\roaming\\python\\python37\\site-packages (from tensorboard<2.12,>=2.11->tensorflow-intel==2.11.0->tensorflow) (0.4.6)\n",
      "Requirement already satisfied: markdown>=2.6.8 in c:\\users\\pratham.m\\appdata\\roaming\\python\\python37\\site-packages (from tensorboard<2.12,>=2.11->tensorflow-intel==2.11.0->tensorflow) (3.4.4)\n",
      "Requirement already satisfied: requests<3,>=2.21.0 in c:\\users\\pratham.m\\appdata\\roaming\\python\\python37\\site-packages (from tensorboard<2.12,>=2.11->tensorflow-intel==2.11.0->tensorflow) (2.31.0)\n",
      "Requirement already satisfied: tensorboard-data-server<0.7.0,>=0.6.0 in c:\\users\\pratham.m\\appdata\\roaming\\python\\python37\\site-packages (from tensorboard<2.12,>=2.11->tensorflow-intel==2.11.0->tensorflow) (0.6.1)\n",
      "Requirement already satisfied: tensorboard-plugin-wit>=1.6.0 in c:\\users\\pratham.m\\appdata\\roaming\\python\\python37\\site-packages (from tensorboard<2.12,>=2.11->tensorflow-intel==2.11.0->tensorflow) (1.8.1)\n",
      "Requirement already satisfied: werkzeug>=1.0.1 in c:\\users\\pratham.m\\appdata\\roaming\\python\\python37\\site-packages (from tensorboard<2.12,>=2.11->tensorflow-intel==2.11.0->tensorflow) (2.2.3)\n",
      "Requirement already satisfied: cachetools<6.0,>=2.0.0 in c:\\users\\pratham.m\\appdata\\roaming\\python\\python37\\site-packages (from google-auth<3,>=1.6.3->tensorboard<2.12,>=2.11->tensorflow-intel==2.11.0->tensorflow) (5.3.3)\n",
      "Requirement already satisfied: pyasn1-modules>=0.2.1 in c:\\users\\pratham.m\\appdata\\roaming\\python\\python37\\site-packages (from google-auth<3,>=1.6.3->tensorboard<2.12,>=2.11->tensorflow-intel==2.11.0->tensorflow) (0.3.0)\n",
      "Requirement already satisfied: rsa<5,>=3.1.4 in c:\\users\\pratham.m\\appdata\\roaming\\python\\python37\\site-packages (from google-auth<3,>=1.6.3->tensorboard<2.12,>=2.11->tensorflow-intel==2.11.0->tensorflow) (4.9)\n",
      "Requirement already satisfied: requests-oauthlib>=0.7.0 in c:\\users\\pratham.m\\appdata\\roaming\\python\\python37\\site-packages (from google-auth-oauthlib<0.5,>=0.4.1->tensorboard<2.12,>=2.11->tensorflow-intel==2.11.0->tensorflow) (1.3.1)\n",
      "Requirement already satisfied: importlib-metadata>=4.4 in c:\\users\\pratham.m\\appdata\\roaming\\python\\python37\\site-packages (from markdown>=2.6.8->tensorboard<2.12,>=2.11->tensorflow-intel==2.11.0->tensorflow) (6.7.0)\n",
      "Requirement already satisfied: charset-normalizer<4,>=2 in c:\\users\\pratham.m\\appdata\\roaming\\python\\python37\\site-packages (from requests<3,>=2.21.0->tensorboard<2.12,>=2.11->tensorflow-intel==2.11.0->tensorflow) (3.3.2)\n",
      "Requirement already satisfied: idna<4,>=2.5 in c:\\users\\pratham.m\\appdata\\roaming\\python\\python37\\site-packages (from requests<3,>=2.21.0->tensorboard<2.12,>=2.11->tensorflow-intel==2.11.0->tensorflow) (3.6)\n",
      "Requirement already satisfied: urllib3<3,>=1.21.1 in c:\\users\\pratham.m\\appdata\\roaming\\python\\python37\\site-packages (from requests<3,>=2.21.0->tensorboard<2.12,>=2.11->tensorflow-intel==2.11.0->tensorflow) (2.0.7)\n",
      "Requirement already satisfied: certifi>=2017.4.17 in c:\\users\\pratham.m\\appdata\\roaming\\python\\python37\\site-packages (from requests<3,>=2.21.0->tensorboard<2.12,>=2.11->tensorflow-intel==2.11.0->tensorflow) (2024.2.2)\n",
      "Requirement already satisfied: MarkupSafe>=2.1.1 in c:\\users\\pratham.m\\appdata\\roaming\\python\\python37\\site-packages (from werkzeug>=1.0.1->tensorboard<2.12,>=2.11->tensorflow-intel==2.11.0->tensorflow) (2.1.5)\n",
      "Requirement already satisfied: zipp>=0.5 in c:\\users\\pratham.m\\appdata\\roaming\\python\\python37\\site-packages (from importlib-metadata>=4.4->markdown>=2.6.8->tensorboard<2.12,>=2.11->tensorflow-intel==2.11.0->tensorflow) (3.15.0)\n",
      "Requirement already satisfied: pyasn1<0.6.0,>=0.4.6 in c:\\users\\pratham.m\\appdata\\roaming\\python\\python37\\site-packages (from pyasn1-modules>=0.2.1->google-auth<3,>=1.6.3->tensorboard<2.12,>=2.11->tensorflow-intel==2.11.0->tensorflow) (0.5.1)\n",
      "Requirement already satisfied: oauthlib>=3.0.0 in c:\\users\\pratham.m\\appdata\\roaming\\python\\python37\\site-packages (from requests-oauthlib>=0.7.0->google-auth-oauthlib<0.5,>=0.4.1->tensorboard<2.12,>=2.11->tensorflow-intel==2.11.0->tensorflow) (3.2.2)\n",
      "Downloading matplotlib-3.5.3-cp37-cp37m-win_amd64.whl (7.2 MB)\n",
      "   ---------------------------------------- 7.2/7.2 MB 5.5 MB/s eta 0:00:00\n",
      "Downloading cycler-0.11.0-py3-none-any.whl (6.4 kB)\n",
      "Downloading fonttools-4.38.0-py3-none-any.whl (965 kB)\n",
      "   ---------------------------------------- 965.4/965.4 kB 4.7 MB/s eta 0:00:00\n",
      "Downloading kiwisolver-1.4.5-cp37-cp37m-win_amd64.whl (55 kB)\n",
      "   ---------------------------------------- 55.8/55.8 kB 2.8 MB/s eta 0:00:00\n",
      "Downloading pyparsing-3.1.2-py3-none-any.whl (103 kB)\n",
      "   ---------------------------------------- 103.2/103.2 kB 2.0 MB/s eta 0:00:00\n",
      "Installing collected packages: pyparsing, kiwisolver, fonttools, cycler, matplotlib\n",
      "Successfully installed cycler-0.11.0 fonttools-4.38.0 kiwisolver-1.4.5 matplotlib-3.5.3 pyparsing-3.1.2\n",
      "Note: you may need to restart the kernel to use updated packages.\n"
     ]
    }
   ],
   "source": []
  },
  {
   "cell_type": "markdown",
   "metadata": {},
   "source": [
    "# Operator in Python\n",
    "## 1.Airthmetic Operator"
   ]
  },
  {
   "cell_type": "code",
   "execution_count": 4,
   "metadata": {},
   "outputs": [
    {
     "name": "stdout",
     "output_type": "stream",
     "text": [
      "95\n",
      "5\n",
      "2250\n",
      "1.1111111111111112\n",
      "1\n",
      "5\n",
      "2\n"
     ]
    }
   ],
   "source": [
    "a=50\n",
    "b=45\n",
    "\n",
    "print(\"adds\",a+b)\n",
    "print(\"subs\",a-b)\n",
    "print(\"Mult\",a*b)\n",
    "print(\"Div\",a/b)\n",
    "print(\"Floor div\",a//b)\n",
    "print(\"Mod for getting remainder\",a%b)\n",
    "print(a%3)"
   ]
  },
  {
   "cell_type": "markdown",
   "metadata": {},
   "source": [
    "## 2.Assignment operators"
   ]
  },
  {
   "cell_type": "code",
   "execution_count": 14,
   "metadata": {},
   "outputs": [
    {
     "name": "stdout",
     "output_type": "stream",
     "text": [
      "10\n",
      "5\n",
      "5\n",
      "-5\n"
     ]
    }
   ],
   "source": [
    "x=5\n",
    "\n",
    "\n",
    "x+=5\n",
    "print(x)\n",
    "\n",
    "x-=5\n",
    "print(x)\n",
    "\n",
    "x=+5\n",
    "print(x)\n",
    "\n",
    "x=-5\n",
    "print(x)"
   ]
  },
  {
   "cell_type": "markdown",
   "metadata": {},
   "source": [
    "## Logical Operator\n"
   ]
  },
  {
   "cell_type": "code",
   "execution_count": 19,
   "metadata": {},
   "outputs": [
    {
     "name": "stdout",
     "output_type": "stream",
     "text": [
      "False\n"
     ]
    }
   ],
   "source": [
    "x1=10\n",
    "y1= 20\n",
    "\n",
    "print(x1==10 and x1<y1 and x1==y1)"
   ]
  },
  {
   "cell_type": "markdown",
   "metadata": {},
   "source": [
    "## Membership Operator"
   ]
  },
  {
   "cell_type": "code",
   "execution_count": 21,
   "metadata": {},
   "outputs": [
    {
     "name": "stdout",
     "output_type": "stream",
     "text": [
      "False\n",
      "True\n"
     ]
    }
   ],
   "source": [
    "str1=\"Hello\"\n",
    "print('h' in str1 )\n",
    "print('H' in str1 )"
   ]
  },
  {
   "cell_type": "code",
   "execution_count": 24,
   "metadata": {},
   "outputs": [
    {
     "name": "stdout",
     "output_type": "stream",
     "text": [
      "False\n",
      "True\n"
     ]
    }
   ],
   "source": [
    "l1=[10,20,30,40]\n",
    "print(50 in l1)\n",
    "\n",
    "print(50 not in l1)"
   ]
  },
  {
   "cell_type": "markdown",
   "metadata": {},
   "source": [
    "## Identity operators"
   ]
  },
  {
   "cell_type": "code",
   "execution_count": 26,
   "metadata": {},
   "outputs": [
    {
     "name": "stdout",
     "output_type": "stream",
     "text": [
      "True True\n",
      "False False\n"
     ]
    }
   ],
   "source": [
    "z1=10\n",
    "z2=10\n",
    "print(z1 is z2,z1==z2)\n",
    "print(z1 is not z2,z1!=z2)"
   ]
  },
  {
   "cell_type": "markdown",
   "metadata": {},
   "source": [
    "## Bitwise Operator\n",
    "&=AND  \n",
    " |=OR  \n",
    "  ^=XOR\n"
   ]
  },
  {
   "cell_type": "code",
   "execution_count": 27,
   "metadata": {},
   "outputs": [
    {
     "name": "stdout",
     "output_type": "stream",
     "text": [
      "0b1010\n"
     ]
    }
   ],
   "source": [
    "XX=10\n",
    "YY=9\n",
    "print(bin(XX))"
   ]
  },
  {
   "cell_type": "code",
   "execution_count": 28,
   "metadata": {},
   "outputs": [
    {
     "name": "stdout",
     "output_type": "stream",
     "text": [
      "0b1001\n"
     ]
    }
   ],
   "source": [
    "\n",
    "print(bin(YY))"
   ]
  },
  {
   "cell_type": "code",
   "execution_count": 35,
   "metadata": {},
   "outputs": [
    {
     "name": "stdout",
     "output_type": "stream",
     "text": [
      "AND OPERATION 8 0b1000\n",
      "OR OPERATION 8 0b1011\n",
      "XOR OPERATION 3 0b11\n"
     ]
    }
   ],
   "source": [
    "print(\"AND OPERATION\",XX &YY,bin(XX&YY))\n",
    "\n",
    "print(\"OR OPERATION\",XX &YY,bin(XX|YY))\n",
    "\n",
    "print(\"XOR OPERATION\",XX^YY,bin(XX^YY))\n"
   ]
  },
  {
   "cell_type": "markdown",
   "metadata": {},
   "source": [
    "# Data Types In Python\n"
   ]
  },
  {
   "cell_type": "markdown",
   "metadata": {},
   "source": [
    "Mutable objects can chnage its state or contents and Immutable objects cannot \n",
    "\n",
    "Mutable Data types:\n",
    "List,Dictionary,Byte array\n",
    "\n",
    "Immutable Dta Types:\n",
    "Int,Float,Complex,String,Tuple,Set"
   ]
  },
  {
   "cell_type": "markdown",
   "metadata": {},
   "source": [
    "# For Loop with range "
   ]
  },
  {
   "cell_type": "markdown",
   "metadata": {},
   "source": [
    "range(5)\n",
    "means:\n",
    "it starts from 0, condition< 5 and increment 1\n",
    "\n",
    "range(1,6)\n",
    "means:\n",
    "it starts from 1, condition less than 6, increment 1\n",
    "\n",
    "range(1,6,2)\n",
    "means:\n",
    "it starts from 1, condition less than 6, increment 2, o/p:1,3,5"
   ]
  },
  {
   "cell_type": "code",
   "execution_count": 41,
   "metadata": {},
   "outputs": [
    {
     "name": "stdout",
     "output_type": "stream",
     "text": [
      "0\n",
      "1\n",
      "2\n",
      "3\n",
      "4\n"
     ]
    }
   ],
   "source": [
    "for n in range(5):\n",
    "    print(n)\n",
    "\n"
   ]
  },
  {
   "cell_type": "code",
   "execution_count": 42,
   "metadata": {},
   "outputs": [
    {
     "name": "stdout",
     "output_type": "stream",
     "text": [
      "1\n",
      "2\n",
      "3\n",
      "4\n"
     ]
    }
   ],
   "source": [
    "for n in range(1,5):\n",
    "    print(n)\n",
    "\n"
   ]
  },
  {
   "cell_type": "code",
   "execution_count": 43,
   "metadata": {},
   "outputs": [
    {
     "name": "stdout",
     "output_type": "stream",
     "text": [
      "1\n",
      "3\n",
      "5\n"
     ]
    }
   ],
   "source": [
    "for n in range(1,6,2):\n",
    "    print(n)"
   ]
  },
  {
   "cell_type": "code",
   "execution_count": 44,
   "metadata": {},
   "outputs": [
    {
     "name": "stdout",
     "output_type": "stream",
     "text": [
      "2* 1 = 2\n",
      "2* 2 = 4\n",
      "2* 3 = 6\n",
      "2* 4 = 8\n",
      "2* 5 = 10\n",
      "2* 6 = 12\n",
      "2* 7 = 14\n",
      "2* 8 = 16\n",
      "2* 9 = 18\n",
      "2* 10 = 20\n"
     ]
    }
   ],
   "source": [
    "for a in range(1,11):\n",
    "    print(\"2*\",a,\"=\",2*a)"
   ]
  },
  {
   "cell_type": "markdown",
   "metadata": {},
   "source": [
    "### Range in reverse"
   ]
  },
  {
   "cell_type": "code",
   "execution_count": 47,
   "metadata": {},
   "outputs": [
    {
     "name": "stdout",
     "output_type": "stream",
     "text": [
      "10\n",
      "9\n",
      "8\n",
      "7\n",
      "6\n",
      "5\n",
      "4\n",
      "3\n",
      "2\n",
      "1\n"
     ]
    }
   ],
   "source": [
    "for b in range(10,0,-1):\n",
    "    print(b)"
   ]
  },
  {
   "cell_type": "code",
   "execution_count": 48,
   "metadata": {},
   "outputs": [
    {
     "name": "stdout",
     "output_type": "stream",
     "text": [
      "2*b 2\n"
     ]
    }
   ],
   "source": []
  },
  {
   "cell_type": "markdown",
   "metadata": {},
   "source": [
    "# While Statement\n"
   ]
  },
  {
   "cell_type": "code",
   "execution_count": 52,
   "metadata": {},
   "outputs": [
    {
     "name": "stdout",
     "output_type": "stream",
     "text": [
      "1 Hi\n",
      "2 Hi\n",
      "3 Hi\n",
      "4 Hi\n",
      "5 Hi\n",
      "6 Hi\n",
      "7 Hi\n",
      "8 Hi\n",
      "9 Hi\n",
      "10 Hi\n"
     ]
    }
   ],
   "source": [
    "i=1\n",
    "while i<=10:\n",
    "    print(i,\"Hi\")\n",
    "    i=i+1\n"
   ]
  },
  {
   "cell_type": "code",
   "execution_count": 53,
   "metadata": {},
   "outputs": [
    {
     "name": "stdout",
     "output_type": "stream",
     "text": [
      "pratham hi how are you\n",
      "PRATHAM HI HOW ARE YOU\n",
      "Pratham Hi How Are You\n",
      "Pratham hi how are you\n"
     ]
    }
   ],
   "source": [
    "a=\"pratham Hi HOw aRe You\"\n",
    "print(a.lower())\n",
    "print(a.upper())\n",
    "print(a.title())\n",
    "print(a.capitalize())"
   ]
  },
  {
   "cell_type": "markdown",
   "metadata": {},
   "source": [
    "use this as input \"pratham Hi HOw aRe You\" and output should be \"Pratham Hi How ARE yOU\" "
   ]
  },
  {
   "cell_type": "code",
   "execution_count": 59,
   "metadata": {},
   "outputs": [
    {
     "name": "stdout",
     "output_type": "stream",
     "text": [
      "['pratham', 'Hi', 'HOw', 'aRe', 'You']\n",
      "Pratham Hi How ARE yOU\n"
     ]
    }
   ],
   "source": [
    "n = \"pratham Hi HOw aRe You\"\n",
    "# Split the string into a list of words\n",
    "words = n.split()\n",
    "print(words)\n",
    "\n",
    "# Modify the required words as per your example\n",
    "words[0] = words[0].capitalize()  # 'Pratham'\n",
    "words[2] = words[2].capitalize()  # 'How'\n",
    "words[3] = words[3].upper()       # 'ARE'\n",
    "words[4] = words[4].swapcase()    # 'yOU'\n",
    "\n",
    "# Join the words back into a sentence\n",
    "result = \" \".join(words)\n",
    "print(result)\n"
   ]
  },
  {
   "cell_type": "markdown",
   "metadata": {},
   "source": [
    "# Chr() and Ord() Functions"
   ]
  },
  {
   "cell_type": "code",
   "execution_count": 62,
   "metadata": {},
   "outputs": [
    {
     "name": "stdout",
     "output_type": "stream",
     "text": [
      "A\n",
      "E\n"
     ]
    }
   ],
   "source": [
    "a=65\n",
    "print(chr(a))\n",
    "\n",
    "b=69\n",
    "print(chr(b))"
   ]
  },
  {
   "cell_type": "code",
   "execution_count": 66,
   "metadata": {},
   "outputs": [
    {
     "name": "stdout",
     "output_type": "stream",
     "text": [
      "80\n",
      "114\n"
     ]
    }
   ],
   "source": [
    "m='P'\n",
    "print(ord(m))\n",
    "\n",
    "m='r'\n",
    "print(ord(m))"
   ]
  },
  {
   "cell_type": "markdown",
   "metadata": {},
   "source": [
    "ord() function:\n",
    "\n",
    "    Purpose: Converts a single character to its corresponding ASCII or Unicode integer value.\n",
    "\n",
    "chr() function:\n",
    "\n",
    "    Purpose: Converts an ASCII or Unicode integer value to its corresponding character."
   ]
  },
  {
   "cell_type": "markdown",
   "metadata": {},
   "source": [
    "# LIST"
   ]
  },
  {
   "cell_type": "code",
   "execution_count": 70,
   "metadata": {},
   "outputs": [
    {
     "name": "stdout",
     "output_type": "stream",
     "text": [
      "40 50\n",
      "[10, 20]\n",
      "[10, 30, 50]\n",
      "[40, 50, 'hello']\n",
      "['hello']\n",
      "['hello', 40, 20]\n"
     ]
    }
   ],
   "source": [
    "L=[10,20,30,40,50,\"hello\"]\n",
    "print(L[3],L[4])\n",
    "print(L[0:2])\n",
    "print(L[0::2])\n",
    "print(L[3:])\n",
    "print(L[-1::])\n",
    "print(L[-1::-2])"
   ]
  },
  {
   "cell_type": "markdown",
   "metadata": {},
   "source": [
    "## List Function\n",
    "del\n",
    "pop()\n",
    "remove()\n",
    "clear()\n",
    "insert()\n",
    "append()\n",
    "extend()"
   ]
  },
  {
   "cell_type": "code",
   "execution_count": 12,
   "metadata": {},
   "outputs": [
    {
     "name": "stdout",
     "output_type": "stream",
     "text": [
      "[20, 40, 50]\n"
     ]
    }
   ],
   "source": [
    "l1=[20,30,40,50]\n",
    "del l1[1]\n",
    "print(l1)\n"
   ]
  },
  {
   "cell_type": "code",
   "execution_count": 13,
   "metadata": {},
   "outputs": [
    {
     "name": "stdout",
     "output_type": "stream",
     "text": [
      "[20, 40]\n"
     ]
    }
   ],
   "source": [
    "l1.pop(2)\n",
    "print(l1)"
   ]
  },
  {
   "cell_type": "code",
   "execution_count": 15,
   "metadata": {},
   "outputs": [
    {
     "name": "stdout",
     "output_type": "stream",
     "text": [
      "40\n",
      "[20]\n"
     ]
    }
   ],
   "source": [
    "print(l1.pop(1))\n",
    "print(l1)\n"
   ]
  },
  {
   "cell_type": "code",
   "execution_count": 25,
   "metadata": {},
   "outputs": [
    {
     "name": "stdout",
     "output_type": "stream",
     "text": [
      "[20, 2, 3, 4, 6, 7]\n",
      "[100, 2, 3, 4, 6, 7]\n"
     ]
    }
   ],
   "source": [
    "l2=[20,2,3,4,45,6,7]\n",
    "l2.remove(45)\n",
    "print(l2)\n",
    "\n",
    "l2[0]=100\n",
    "print(l2)"
   ]
  },
  {
   "cell_type": "code",
   "execution_count": 23,
   "metadata": {},
   "outputs": [
    {
     "name": "stdout",
     "output_type": "stream",
     "text": [
      "[]\n"
     ]
    }
   ],
   "source": [
    "l2.clear()\n",
    "print(l2)"
   ]
  },
  {
   "cell_type": "code",
   "execution_count": 32,
   "metadata": {},
   "outputs": [
    {
     "name": "stdout",
     "output_type": "stream",
     "text": [
      "[2, 33, 3, 4, 5, 6, 7, 8, 9]\n",
      "[2, 33, 3, 4, 5, 6, 7, 8, 9, [100, 2, 3, 4, 6, 7]]\n",
      "[2, 33, 3, 4, 5, 6, 7, 8, 9, [100, 2, 3, 4, 6, 7], 100, 2, 3, 4, 6, 7]\n"
     ]
    }
   ],
   "source": [
    "l3=[2,3,4,5,6,7,8,9]\n",
    "l3.insert(1,33)\n",
    "print(l3)\n",
    "\n",
    "l3.append(l2)  #append() adds an element at the end of the list\n",
    "print(l3)\n",
    "\n",
    "l3.extend(l2)\n",
    "print(l3)\n"
   ]
  },
  {
   "cell_type": "markdown",
   "metadata": {},
   "source": [
    "## List Comprehension"
   ]
  },
  {
   "cell_type": "code",
   "execution_count": 41,
   "metadata": {},
   "outputs": [
    {
     "name": "stdout",
     "output_type": "stream",
     "text": [
      "[1, 2, 3, 4, 5, 6, 7, 8, 9, 10, 11, 12, 13, 14, 15, 16, 17, 18, 19, 20, 21, 22, 23, 24, 25, 26, 27, 28, 29, 30, 31, 32, 33, 34, 35, 36, 37, 38, 39, 40, 41, 42, 43, 44, 45, 46, 47, 48, 49, 50, 51, 52, 53, 54, 55, 56, 57, 58, 59, 60, 61, 62, 63, 64, 65, 66, 67, 68, 69, 70, 71, 72, 73, 74, 75, 76, 77, 78, 79, 80, 81, 82, 83, 84, 85, 86, 87, 88, 89, 90, 91, 92, 93, 94, 95, 96, 97, 98, 99, 100]\n",
      "[1, 2, 3, 4, 5, 6, 7, 8, 9, 10, 11, 12, 13, 14, 15, 16, 17, 18, 19, 20, 21, 22, 23, 24, 25, 26, 27, 28, 29, 30, 31, 32, 33, 34, 35, 36, 37, 38, 39, 40, 41, 42, 43, 44, 45, 46, 47, 48, 49, 50, 51, 52, 53, 54, 55, 56, 57, 58, 59, 60, 61, 62, 63, 64, 65, 66, 67, 68, 69, 70, 71, 72, 73, 74, 75, 76, 77, 78, 79, 80, 81, 82, 83, 84, 85, 86, 87, 88, 89, 90, 91, 92, 93, 94, 95, 96, 97, 98, 99, 100]\n",
      "[2, 4, 6, 8, 10, 12, 14, 16, 18, 20, 22, 24, 26, 28, 30, 32, 34, 36, 38, 40, 42, 44, 46, 48, 50, 52, 54, 56, 58, 60, 62, 64, 66, 68, 70, 72, 74, 76, 78, 80, 82, 84, 86, 88, 90, 92, 94, 96, 98, 100]\n"
     ]
    }
   ],
   "source": [
    "l=[]\n",
    "for a in range(1,101):\n",
    "    l.append(a)\n",
    "print(l)\n",
    "\n",
    "#Using comprehension\n",
    "n=[m for m in range(1,101)]\n",
    "print(n)\n",
    "\n",
    "#printing only even number from 1 to 101\n",
    "n=[m for m in range(1,101) if m%2==0]\n",
    "print(n)"
   ]
  },
  {
   "cell_type": "code",
   "execution_count": 42,
   "metadata": {},
   "outputs": [
    {
     "name": "stdout",
     "output_type": "stream",
     "text": [
      "['P', 'r', 'a', 't', 'h', 'a', 'm']\n"
     ]
    }
   ],
   "source": [
    "s=\"Pratham\"\n",
    "d=[g for g in s]\n",
    "print(d)"
   ]
  },
  {
   "cell_type": "code",
   "execution_count": 55,
   "metadata": {},
   "outputs": [
    {
     "name": "stdout",
     "output_type": "stream",
     "text": [
      "10 2\n",
      "20 3\n",
      "30 4\n",
      "40 5\n",
      "50 6\n",
      "10 2\n",
      "20 3\n",
      "30 4\n",
      "40 5\n",
      "50 6\n"
     ]
    }
   ],
   "source": [
    "m=[10,20,30,40,50]\n",
    "n=[2,3,4,5,6]\n",
    "t=len(n)\n",
    "for a,b in zip(m,n):\n",
    "    print(a,b)\n",
    "    \n",
    "for h in range(t):\n",
    "    print(m[h],n[h])"
   ]
  },
  {
   "cell_type": "markdown",
   "metadata": {},
   "source": [
    "# Program to convert string to list"
   ]
  },
  {
   "cell_type": "code",
   "execution_count": 57,
   "metadata": {},
   "outputs": [
    {
     "name": "stdout",
     "output_type": "stream",
     "text": [
      "['Hi', 'hello', 'namskaes']\n"
     ]
    }
   ],
   "source": [
    "a=input()\n",
    "b=a.split()\n",
    "c=list(b)\n",
    "print(c)\n",
    "\n"
   ]
  },
  {
   "cell_type": "code",
   "execution_count": 60,
   "metadata": {},
   "outputs": [
    {
     "name": "stdout",
     "output_type": "stream",
     "text": [
      "['hi', 'helllo', 'pratham']\n"
     ]
    }
   ],
   "source": [
    "#another method of converting sting to list\n",
    "l=[]\n",
    "for a in range(1,4):\n",
    "    n=input(\"enter the value\"+str(a))\n",
    "    l.append(n)\n",
    "print(l)"
   ]
  },
  {
   "cell_type": "markdown",
   "metadata": {},
   "source": [
    "# Stack in Python\n",
    "The stack is linear data structure\n",
    "\n",
    "stores item in a Last-In First Out(LIFO) or First-In-Last-Out(FILO) manner"
   ]
  },
  {
   "cell_type": "code",
   "execution_count": 3,
   "metadata": {},
   "outputs": [
    {
     "name": "stdout",
     "output_type": "stream",
     "text": [
      "Stack is empty\n",
      "['200']\n",
      "['200', '300']\n",
      "Last value of stack 300\n",
      "Last value of stack 300\n",
      "Display stack ['200', '300']\n"
     ]
    }
   ],
   "source": [
    "st=[]\n",
    "while True:\n",
    "    c=int(input(''' \n",
    "            1 Push Elements\n",
    "            2 Pop Elements\n",
    "            3 Peek Element\n",
    "            4 Display Stack\n",
    "            5 Exit\n",
    "            '''))\n",
    "    if c==1:\n",
    "        n=input(\"Enter the value\");\n",
    "        st.append(n)\n",
    "        print(st)\n",
    "    elif c==2:\n",
    "        if len(st)==0:\n",
    "            print(\"Stack is empty\")\n",
    "        else:\n",
    "            p=st.pop()\n",
    "            print(p)\n",
    "            print(st)\n",
    "    elif c==3:\n",
    "        if len(st)==0:\n",
    "            print(\"Stack is empty\")\n",
    "        else:\n",
    "            print(\"Last value of stack\",st[-1])\n",
    "    elif c==4:\n",
    "        print(\"Display stack\",st)\n",
    "    elif c==5:\n",
    "        break;\n",
    "    \n",
    "        \n",
    "        "
   ]
  },
  {
   "cell_type": "markdown",
   "metadata": {},
   "source": [
    "# Queue in Python\n",
    "The queue is a linear Data Structure\n",
    "Stores item in First In First Out Manner\n",
    "\n",
    "Queue Operations: Enqueue,Dequeue,Front,Rear"
   ]
  },
  {
   "cell_type": "markdown",
   "metadata": {},
   "source": []
  },
  {
   "cell_type": "code",
   "execution_count": 5,
   "metadata": {},
   "outputs": [
    {
     "name": "stdout",
     "output_type": "stream",
     "text": [
      "Queue: ['30']\n",
      "Queue: ['30', '40']\n",
      "Queue: ['30', '40', '50']\n",
      "Popped element: 30\n",
      "Updated Queue: ['40', '50']\n",
      "Front element of the queue: 40\n",
      "Last element of the queue: 50\n",
      "Current Queue: ['40', '50']\n",
      "Exiting...\n"
     ]
    }
   ],
   "source": [
    "st = []\n",
    "\n",
    "while True:\n",
    "    c = int(input('''\n",
    "            1 Push Elements\n",
    "            2 Pop Elements\n",
    "            3 Front Element\n",
    "            4 Last Element\n",
    "            5 Display Queue\n",
    "            6 Exit\n",
    "            '''))\n",
    "\n",
    "    if c == 1:\n",
    "        n = input(\"Enter the value: \")\n",
    "        st.append(n)\n",
    "        print(\"Queue:\", st)\n",
    "    \n",
    "    elif c == 2:\n",
    "        if len(st) == 0:\n",
    "            print(\"Queue is empty\")\n",
    "        else:\n",
    "            popped_element = st.pop(0)  # Removing the front element\n",
    "            print(f\"Popped element: {popped_element}\")\n",
    "            print(\"Updated Queue:\", st)\n",
    "    \n",
    "    elif c == 3:\n",
    "        if len(st) == 0:\n",
    "            print(\"Queue is empty\")\n",
    "        else:\n",
    "            print(\"Front element of the queue:\", st[0])\n",
    "    \n",
    "    elif c == 4:\n",
    "        if len(st) == 0:\n",
    "            print(\"Queue is empty\")\n",
    "        else:\n",
    "            print(\"Last element of the queue:\", st[-1])\n",
    "    \n",
    "    elif c == 5:\n",
    "        print(\"Current Queue:\", st)\n",
    "    \n",
    "    elif c == 6:\n",
    "        print(\"Exiting...\")\n",
    "        break\n",
    "    \n",
    "    else:\n",
    "        print(\"Invalid operation, please select a valid option.\")\n"
   ]
  },
  {
   "cell_type": "code",
   "execution_count": 6,
   "metadata": {},
   "outputs": [],
   "source": [
    "# completed till 6 hr 45mins"
   ]
  },
  {
   "cell_type": "code",
   "execution_count": 5,
   "metadata": {},
   "outputs": [
    {
     "name": "stdout",
     "output_type": "stream",
     "text": [
      "1\n",
      "2\n",
      "3\n",
      "4\n",
      "2\n",
      "3\n",
      "4\n",
      "3\n",
      "4\n",
      "4\n"
     ]
    }
   ],
   "source": [
    "\n",
    "nums=[1,2,3,4]\n",
    "for i in range(len(nums)):\n",
    "    for j in range(i,len(nums)):\n",
    "        print(nums[j],end=\"\")"
   ]
  },
  {
   "cell_type": "markdown",
   "metadata": {},
   "source": [
    "#  Interview Questions"
   ]
  },
  {
   "cell_type": "markdown",
   "metadata": {},
   "source": [
    "1.Find out common letters between two strings using python"
   ]
  },
  {
   "cell_type": "code",
   "execution_count": 1,
   "metadata": {},
   "outputs": [
    {
     "name": "stdout",
     "output_type": "stream",
     "text": [
      "strings are pratham ranjith\n",
      "{'t', 'r', 'a', 'h'}\n"
     ]
    }
   ],
   "source": [
    "a=input(\"enter a string\")\n",
    "b=input(\"enter second string\")\n",
    "print(\"strings are\",a,b)\n",
    "c=set(a)\n",
    "d=set(b)\n",
    "lst=c & d\n",
    "print(lst)\n"
   ]
  },
  {
   "cell_type": "markdown",
   "metadata": {},
   "source": [
    "2.Using SQLite3 with Python\n",
    "\n",
    "Description:\n",
    "Learn how to create and manage SQLite databases using the sqlite3 module."
   ]
  },
  {
   "cell_type": "code",
   "execution_count": 5,
   "metadata": {},
   "outputs": [
    {
     "name": "stdout",
     "output_type": "stream",
     "text": [
      "[('Pratham', 22, 'Bengaluru')]\n"
     ]
    }
   ],
   "source": [
    "import sqlite3\n",
    "\n",
    "conn=sqlite3.connect('example2.db')\n",
    "c=conn.cursor()\n",
    "\n",
    "c.execute('''CREATE TABLE IF NOT EXISTS users (name text , age integer, city text)''')\n",
    "\n",
    "c.execute(\"INSERT INTO users VALUES('Pratham',22,'Bengaluru')\")\n",
    "conn.commit()\n",
    "\n",
    "c.execute(\"SELECT *FROM users\")\n",
    "print(c.fetchall())\n",
    "\n",
    "conn.close()\n"
   ]
  },
  {
   "cell_type": "markdown",
   "metadata": {},
   "source": [
    "3.Count the frequency of words apperaring in python"
   ]
  },
  {
   "cell_type": "code",
   "execution_count": 1,
   "metadata": {},
   "outputs": [
    {
     "name": "stdout",
     "output_type": "stream",
     "text": [
      "{'pratham': 2, 'name': 1, 'is': 2, 'he': 2, 'likes': 2, 'to': 1, 'code': 2, 'douring': 1, 'coding': 1, 'well': 1}\n"
     ]
    }
   ],
   "source": [
    "def freq():\n",
    "    str=input(\"enter a string\")\n",
    "    str=str.lower()\n",
    "    # str=str.translate(str.maketrans('','','.,!?:;'))\n",
    "    li=str.split()\n",
    "    d={}\n",
    "    \n",
    "    for i in li:\n",
    "        if i not in d.keys():\n",
    "            d[i]=0\n",
    "        d[i]=d[i]+1\n",
    "    print(d)\n",
    "freq()"
   ]
  },
  {
   "cell_type": "markdown",
   "metadata": {},
   "source": [
    "4.Find the missing number in array"
   ]
  },
  {
   "cell_type": "code",
   "execution_count": 14,
   "metadata": {},
   "outputs": [
    {
     "name": "stdout",
     "output_type": "stream",
     "text": [
      "Missing number (Summation method): 4\n",
      "Missing number (XOR method): 4\n"
     ]
    }
   ],
   "source": [
    "def get_missing_summation(a):\n",
    "    # The last number in the array should be the highest number\n",
    "    n = len(a) + 1  # Adjusting n to be the size of the full sequence\n",
    "    total = n * (n + 1) // 2  # Sum of first n natural numbers\n",
    "    sum1 = sum(a)  # Sum of the array\n",
    "    print(f\"Missing number (Summation method): {total - sum1}\")\n",
    "\n",
    "def get_missing_xor(a):\n",
    "    n = len(a) + 1  # Adjusting n to be the size of the full sequence\n",
    "    xor_a = a[0]\n",
    "    for index in range(1, len(a)):\n",
    "        xor_a ^= a[index]\n",
    "    \n",
    "    x2 = 0\n",
    "    for index in range(1, n + 1):\n",
    "        x2 ^= index\n",
    "    \n",
    "    print(f\"Missing number (XOR method): {xor_a ^ x2}\")\n",
    "\n",
    "# Example array with a missing number\n",
    "arr = [1, 2, 3, 5]  # Missing number is 4\n",
    "\n",
    "get_missing_summation(arr)\n",
    "get_missing_xor(arr)\n"
   ]
  },
  {
   "cell_type": "code",
   "execution_count": 4,
   "metadata": {},
   "outputs": [
    {
     "name": "stdout",
     "output_type": "stream",
     "text": [
      "Missing number (Summation method): 4\n"
     ]
    }
   ],
   "source": [
    "def get_missing_summation(a):\n",
    "    # The last number in the array should be the highest number\n",
    "    n = len(a) + 1  # Adjusting n to be the size of the full sequence\n",
    "    total = n * (n + 1) // 2  # Sum of first n natural numbers\n",
    "    sum1 = sum(a)  # Sum of the array\n",
    "    print(f\"Missing number (Summation method): {total - sum1}\")\n",
    "\n",
    "# def get_missing_xor(a):\n",
    "#     n = len(a) + 1  # Adjusting n to be the size of the full sequence\n",
    "#     xor_a = a[0]\n",
    "#     for index in range(1, len(a)):\n",
    "#         xor_a ^= a[index]\n",
    "    \n",
    "#     x2 = 0\n",
    "#     for index in range(1, n + 1):\n",
    "#         x2 ^= index\n",
    "    \n",
    "#     print(f\"Missing number (XOR method): {xor_a ^ x2}\")\n",
    "\n",
    "# Example array with a missing number\n",
    "arr = [1, 2, 3, 5]  # Missing number is 4\n",
    "\n",
    "get_missing_summation(arr)\n",
    "# get_missing_xor(arr)\n"
   ]
  },
  {
   "cell_type": "markdown",
   "metadata": {},
   "source": [
    "5.how to take an input and print in list format"
   ]
  },
  {
   "cell_type": "code",
   "execution_count": 15,
   "metadata": {},
   "outputs": [
    {
     "name": "stdout",
     "output_type": "stream",
     "text": [
      "List: ['HI', 'HELLO', 'NAMSKARA']\n"
     ]
    }
   ],
   "source": [
    "# Taking input from the user\n",
    "user_input = input(\"Enter elements separated by spaces: \")\n",
    "\n",
    "# Splitting the input string into a list\n",
    "elements_list = user_input.split()\n",
    "\n",
    "# Printing the list\n",
    "print(\"List:\", elements_list)\n"
   ]
  },
  {
   "cell_type": "markdown",
   "metadata": {},
   "source": [
    "6.Find Out Pairs with given sum in an array in python of time complexity O(n log n)- FACEBOOK,AMAZON"
   ]
  },
  {
   "cell_type": "code",
   "execution_count": 17,
   "metadata": {},
   "outputs": [
    {
     "name": "stdout",
     "output_type": "stream",
     "text": [
      "vales of pair are 7 & 9\n",
      "vales of pair are 8 & 8\n"
     ]
    }
   ],
   "source": [
    "def twosum(arr,sum):\n",
    "    arr.sort()\n",
    "    left=0\n",
    "    right=len(arr)-1\n",
    "    while left<=right:\n",
    "        if arr[left]+arr[right]>sum:\n",
    "            right=right-1\n",
    "        elif arr[left]+arr[right]<sum:\n",
    "            left=left+1\n",
    "        elif arr[left]+arr[right]==sum:\n",
    "            print(\"vales of pair are\",arr[left],\"&\",arr[right])\n",
    "            right=right-1\n",
    "            left=left+1\n",
    "arr=[5,7,4,3,9,8,19,21]\n",
    "sum=16\n",
    "twosum(arr,sum)"
   ]
  },
  {
   "cell_type": "markdown",
   "metadata": {},
   "source": [
    "7.Height of binary tree(Max Depth)"
   ]
  },
  {
   "cell_type": "code",
   "execution_count": 6,
   "metadata": {},
   "outputs": [
    {
     "name": "stdout",
     "output_type": "stream",
     "text": [
      "Height of the binary tree: 3\n"
     ]
    }
   ],
   "source": [
    "class Node:\n",
    "    def __init__(self, value):\n",
    "        self.value = value\n",
    "        self.left = None\n",
    "        self.right = None\n",
    "\n",
    "def max_depth(node):\n",
    "    # Base case: If the node is null, the depth is 0\n",
    "    if node is None:\n",
    "        return 0\n",
    "    else:\n",
    "        # Recursively find the depth of the left and right subtrees\n",
    "        left_depth = max_depth(node.left)\n",
    "        right_depth = max_depth(node.right)\n",
    "        \n",
    "        # The height of the current node is the greater of the two subtrees' heights plus 1\n",
    "        return max(left_depth, right_depth) + 1\n",
    "\n",
    "# Example usage:\n",
    "\n",
    "# Create a sample binary tree:\n",
    "#       1\n",
    "#      / \\\n",
    "#     2   3\n",
    "#    / \\\n",
    "#   4   5\n",
    "root = Node(1)\n",
    "root.left = Node(2)\n",
    "root.right = Node(3)\n",
    "root.left.left = Node(4)\n",
    "root.left.right = Node(5)\n",
    "\n",
    "# Find the maximum depth\n",
    "height = max_depth(root)\n",
    "print(f\"Height of the binary tree: {height}\")\n"
   ]
  },
  {
   "cell_type": "markdown",
   "metadata": {},
   "source": [
    "Fibonacci Number\n"
   ]
  },
  {
   "cell_type": "code",
   "execution_count": 8,
   "metadata": {},
   "outputs": [
    {
     "name": "stdout",
     "output_type": "stream",
     "text": [
      "The Fibonacci series up to 10 terms is: [0, 1, 1, 2, 3, 5, 8, 13, 21, 34]\n"
     ]
    }
   ],
   "source": [
    "def fibonacci_series(n: int) -> list:\n",
    "    series = []\n",
    "    a, b = 0, 1\n",
    "    for _ in range(n):\n",
    "        series.append(a)\n",
    "        a, b = b, a + b\n",
    "    return series\n",
    "\n",
    "# Take input from the user\n",
    "try:\n",
    "    n = int(input(\"Enter the number of terms in the Fibonacci series: \"))\n",
    "    if n <= 0:\n",
    "        print(\"Please enter a positive integer.\")\n",
    "    else:\n",
    "        print(f\"The Fibonacci series up to {n} terms is: {fibonacci_series(n)}\")\n",
    "except ValueError:\n",
    "    print(\"Invalid input! Please enter an integer.\")\n"
   ]
  },
  {
   "cell_type": "code",
   "execution_count": 11,
   "metadata": {},
   "outputs": [
    {
     "name": "stdout",
     "output_type": "stream",
     "text": [
      "\"A man a plan a canal Panama\" is a palindrome.\n"
     ]
    }
   ],
   "source": [
    "def is_palindrome(s: str) -> bool:\n",
    "    # Normalize the string: remove spaces and convert to lowercase\n",
    "    s = s.replace(\" \", \"\").lower()\n",
    "    return s == s[::-1]\n",
    "\n",
    "# Take input from the user\n",
    "input_string = input(\"Enter a string: \")\n",
    "if is_palindrome(input_string):\n",
    "    print(f'\"{input_string}\" is a palindrome.')\n",
    "else:\n",
    "    print(f'\"{input_string}\" is not a palindrome.')\n"
   ]
  },
  {
   "cell_type": "markdown",
   "metadata": {},
   "source": [
    "8.Convert a list of dictionary to JSON"
   ]
  },
  {
   "cell_type": "code",
   "execution_count": 18,
   "metadata": {},
   "outputs": [
    {
     "name": "stdout",
     "output_type": "stream",
     "text": [
      "[\n",
      "    {\n",
      "        \"name\": \"Pratham\",\n",
      "        \"age\": 25,\n",
      "        \"city\": \"New York\"\n",
      "    },\n",
      "    {\n",
      "        \"name\": \"John\",\n",
      "        \"age\": 30,\n",
      "        \"city\": \"San Francisco\"\n",
      "    },\n",
      "    {\n",
      "        \"name\": \"Jane\",\n",
      "        \"age\": 28,\n",
      "        \"city\": \"Los Angeles\"\n",
      "    }\n",
      "]\n"
     ]
    }
   ],
   "source": [
    "import json\n",
    "\n",
    "# Example data as a list of dictionaries\n",
    "data = [\n",
    "    {\"name\": \"Pratham\", \"age\": 25, \"city\": \"New York\"},\n",
    "    {\"name\": \"John\", \"age\": 30, \"city\": \"San Francisco\"},\n",
    "    {\"name\": \"Jane\", \"age\": 28, \"city\": \"Los Angeles\"}\n",
    "]\n",
    "\n",
    "# Convert the list of dictionaries to a JSON string\n",
    "json_data = json.dumps(data, indent=4)\n",
    "\n",
    "# Print the JSON string\n",
    "print(json_data)\n"
   ]
  },
  {
   "cell_type": "markdown",
   "metadata": {},
   "source": [
    "9.Longest Substring Without Repeating Characters"
   ]
  },
  {
   "cell_type": "code",
   "execution_count": 26,
   "metadata": {},
   "outputs": [
    {
     "name": "stdout",
     "output_type": "stream",
     "text": [
      "The length of the longest substring without repeating characters is: 3\n"
     ]
    }
   ],
   "source": [
    "def longest_unique_substring(s: str) -> int:\n",
    "    char_map = {}\n",
    "    left = max_length = 0\n",
    "\n",
    "    for right in range(len(s)):\n",
    "        if s[right] in char_map:\n",
    "            left = max(left, char_map[s[right]] + 1)\n",
    "        char_map[s[right]] = right\n",
    "        max_length = max(max_length, right - left + 1)\n",
    "\n",
    "    return max_length\n",
    "\n",
    "# Example usage:\n",
    "input_string = \"abcabcbb\"\n",
    "result = longest_unique_substring(input_string)\n",
    "print(f\"The length of the longest substring without repeating characters is: {result}\")\n"
   ]
  },
  {
   "cell_type": "markdown",
   "metadata": {},
   "source": [
    "10.Merged List"
   ]
  },
  {
   "cell_type": "code",
   "execution_count": 28,
   "metadata": {},
   "outputs": [
    {
     "name": "stdout",
     "output_type": "stream",
     "text": [
      "Merged List:\n",
      "1 -> 1 -> 2 -> 3 -> 4 -> 4 -> None\n"
     ]
    }
   ],
   "source": [
    "class ListNode:\n",
    "    def __init__(self, val=0, next=None):\n",
    "        self.val = val\n",
    "        self.next = next\n",
    "\n",
    "def merge_two_lists(l1: ListNode, l2: ListNode) -> ListNode:\n",
    "    dummy = ListNode()\n",
    "    tail = dummy\n",
    "\n",
    "    while l1 and l2:\n",
    "        if l1.val < l2.val:\n",
    "            tail.next = l1\n",
    "            l1 = l1.next\n",
    "        else:\n",
    "            tail.next = l2\n",
    "            l2 = l2.next\n",
    "        tail = tail.next\n",
    "\n",
    "    tail.next = l1 or l2\n",
    "    return dummy.next\n",
    "\n",
    "def print_list(node: ListNode):\n",
    "    while node:\n",
    "        print(node.val, end=\" -> \")\n",
    "        node = node.next\n",
    "    print(\"None\")\n",
    "\n",
    "# Example usage:\n",
    "# Creating two sorted linked lists: 1 -> 2 -> 4 and 1 -> 3 -> 4\n",
    "l1 = ListNode(1, ListNode(2, ListNode(4)))\n",
    "l2 = ListNode(1, ListNode(3, ListNode(4)))\n",
    "\n",
    "merged_list = merge_two_lists(l1, l2)\n",
    "print(\"Merged List:\")\n",
    "print_list(merged_list)\n"
   ]
  },
  {
   "cell_type": "markdown",
   "metadata": {},
   "source": [
    "11.Reverse a list"
   ]
  },
  {
   "cell_type": "code",
   "execution_count": 30,
   "metadata": {},
   "outputs": [
    {
     "name": "stdout",
     "output_type": "stream",
     "text": [
      "Original List:\n",
      "1 -> 2 -> 3 -> 4 -> 5 -> None\n",
      "Reversed List:\n",
      "5 -> 4 -> 3 -> 2 -> 1 -> None\n"
     ]
    }
   ],
   "source": [
    "class ListNode:\n",
    "    def __init__(self, val=0, next=None):\n",
    "        self.val = val\n",
    "        self.next = next\n",
    "\n",
    "def reverse_list(head: ListNode) -> ListNode:\n",
    "    prev = None\n",
    "    current = head\n",
    "\n",
    "    while current:\n",
    "        next_node = current.next\n",
    "        current.next = prev\n",
    "        prev = current\n",
    "        current = next_node\n",
    "\n",
    "    return prev\n",
    "\n",
    "def print_list(node: ListNode):\n",
    "    while node:\n",
    "        print(node.val, end=\" -> \")\n",
    "        node = node.next\n",
    "    print(\"None\")\n",
    "\n",
    "# Example usage:\n",
    "# Creating a linked list: 1 -> 2 -> 3 -> 4 -> 5\n",
    "head = ListNode(1, ListNode(2, ListNode(3, ListNode(4, ListNode(5)))))\n",
    "\n",
    "print(\"Original List:\")\n",
    "print_list(head)\n",
    "\n",
    "# Reversing the linked list\n",
    "reversed_head = reverse_list(head)\n",
    "print(\"Reversed List:\")\n",
    "print_list(reversed_head)\n"
   ]
  },
  {
   "cell_type": "markdown",
   "metadata": {},
   "source": [
    "12.Find the index of sum of two number is 9"
   ]
  },
  {
   "cell_type": "code",
   "execution_count": 32,
   "metadata": {},
   "outputs": [
    {
     "name": "stdout",
     "output_type": "stream",
     "text": [
      "The indices of the two numbers that add up to 9 are: [0, 1]\n"
     ]
    }
   ],
   "source": [
    "def two_sum(nums: list[int], target: int) -> list[int]:\n",
    "    num_map = {}\n",
    "    for i, num in enumerate(nums):\n",
    "        complement = target - num\n",
    "        if complement in num_map:\n",
    "            return [num_map[complement], i]\n",
    "        num_map[num] = i\n",
    "    return []  # Return an empty list if no solution is found\n",
    "\n",
    "# Example usage:\n",
    "nums = [2, 7, 11, 15]\n",
    "target = 9\n",
    "\n",
    "result = two_sum(nums, target)\n",
    "print(f\"The indices of the two numbers that add up to {target} are: {result}\")\n"
   ]
  },
  {
   "cell_type": "markdown",
   "metadata": {},
   "source": [
    "13.Rotate Function"
   ]
  },
  {
   "cell_type": "code",
   "execution_count": 33,
   "metadata": {},
   "outputs": [
    {
     "name": "stdout",
     "output_type": "stream",
     "text": [
      "The rotated list is: [5, 6, 7, 1, 2, 3, 4]\n"
     ]
    }
   ],
   "source": [
    "def rotate(nums: list[int], k: int) -> None:\n",
    "    k %= len(nums)\n",
    "    nums[:] = nums[-k:] + nums[:-k]\n",
    "\n",
    "# Example usage:\n",
    "nums = [1, 2, 3, 4, 5, 6, 7]\n",
    "k = 3\n",
    "rotate(nums, k)\n",
    "print(f\"The rotated list is: {nums}\")\n"
   ]
  },
  {
   "cell_type": "markdown",
   "metadata": {},
   "source": [
    "14. Binary Search"
   ]
  },
  {
   "cell_type": "code",
   "execution_count": 34,
   "metadata": {},
   "outputs": [
    {
     "name": "stdout",
     "output_type": "stream",
     "text": [
      "The index of 5 in the array is: 4\n"
     ]
    }
   ],
   "source": [
    "def binary_search(arr: list[int], target: int) -> int:\n",
    "    left, right = 0, len(arr) - 1\n",
    "    while left <= right:\n",
    "        mid = left + (right - left) // 2\n",
    "        if arr[mid] == target:\n",
    "            return mid\n",
    "        elif arr[mid] < target:\n",
    "            left = mid + 1\n",
    "        else:\n",
    "            right = mid - 1\n",
    "    return -1\n",
    "\n",
    "# Example usage:\n",
    "arr = [1, 2, 3, 4, 5, 6, 7]\n",
    "target = 5\n",
    "index = binary_search(arr, target)\n",
    "print(f\"The index of {target} in the array is: {index}\")\n"
   ]
  },
  {
   "cell_type": "markdown",
   "metadata": {},
   "source": [
    "15 Problem: Climbing Stairs (Dynamic Programming)\n",
    "\n",
    "Description: You are climbing a staircase. It takes n steps to reach the top. Each time you can either climb 1 or 2 steps. In how many distinct ways can you climb to the top?"
   ]
  },
  {
   "cell_type": "code",
   "execution_count": 46,
   "metadata": {},
   "outputs": [
    {
     "name": "stdout",
     "output_type": "stream",
     "text": [
      "8\n"
     ]
    }
   ],
   "source": [
    "def climb_stairs(n):\n",
    "    if n <= 2:\n",
    "        return n\n",
    "    dp = [0] * (n + 1)\n",
    "    dp[1], dp[2] = 1, 2\n",
    "    for i in range(3, n + 1):\n",
    "        dp[i] = dp[i - 1] + dp[i - 2]\n",
    "    return dp[n]\n",
    "\n",
    "# Call the function and print the result\n",
    "n = 5  # Example input\n",
    "print(climb_stairs(n))  # This will display the output\n"
   ]
  },
  {
   "cell_type": "markdown",
   "metadata": {},
   "source": [
    "16. Find the Maximum Subarray (Kadane's Algorithm)"
   ]
  },
  {
   "cell_type": "code",
   "execution_count": 47,
   "metadata": {},
   "outputs": [
    {
     "name": "stdout",
     "output_type": "stream",
     "text": [
      "Maximum subarray sum: 6\n"
     ]
    }
   ],
   "source": [
    "def max_subarray(nums):\n",
    "    max_current = max_global = nums[0]\n",
    "    \n",
    "    for num in nums[1:]:\n",
    "        max_current = max(num, max_current + num)\n",
    "        if max_current > max_global:\n",
    "            max_global = max_current\n",
    "            \n",
    "    return max_global\n",
    "\n",
    "# Sample input\n",
    "nums = [-2, 1, -3, 4, -1, 2, 1, -5, 4]\n",
    "result = max_subarray(nums)\n",
    "print(\"Maximum subarray sum:\", result)\n"
   ]
  },
  {
   "cell_type": "markdown",
   "metadata": {},
   "source": [
    "Group Anagrams"
   ]
  },
  {
   "cell_type": "code",
   "execution_count": 48,
   "metadata": {},
   "outputs": [
    {
     "name": "stdout",
     "output_type": "stream",
     "text": [
      "Grouped anagrams: [['eat', 'tea', 'ate'], ['tan', 'nat'], ['bat']]\n"
     ]
    }
   ],
   "source": [
    "def group_anagrams(strs):\n",
    "    anagrams = {}\n",
    "    \n",
    "    for s in strs:\n",
    "        key = ''.join(sorted(s))\n",
    "        if key not in anagrams:\n",
    "            anagrams[key] = []\n",
    "        anagrams[key].append(s)\n",
    "    \n",
    "    return list(anagrams.values())\n",
    "\n",
    "# Example usage\n",
    "strs = [\"eat\", \"tea\", \"tan\", \"ate\", \"nat\", \"bat\"]\n",
    "result = group_anagrams(strs)\n",
    "print(\"Grouped anagrams:\", result)  # Output: [['eat', 'tea', 'ate'], ['tan', 'nat'], ['bat']]\n"
   ]
  },
  {
   "cell_type": "code",
   "execution_count": 49,
   "metadata": {},
   "outputs": [
    {
     "name": "stdout",
     "output_type": "stream",
     "text": [
      "Maximum depth of binary tree: 3\n"
     ]
    }
   ],
   "source": [
    "class TreeNode:\n",
    "    def __init__(self, val=0, left=None, right=None):\n",
    "        self.val = val\n",
    "        self.left = left\n",
    "        self.right = right\n",
    "\n",
    "def max_depth(root):\n",
    "    if not root:\n",
    "        return 0\n",
    "    return max(max_depth(root.left), max_depth(root.right)) + 1\n",
    "\n",
    "# Example usage\n",
    "root = TreeNode(3)\n",
    "root.left = TreeNode(9)\n",
    "root.right = TreeNode(20, TreeNode(15), TreeNode(7))\n",
    "result = max_depth(root)\n",
    "print(\"Maximum depth of binary tree:\", result)  # Output: 3\n"
   ]
  },
  {
   "cell_type": "markdown",
   "metadata": {},
   "source": [
    "Implement Queue Using Stacks"
   ]
  },
  {
   "cell_type": "code",
   "execution_count": 50,
   "metadata": {},
   "outputs": [
    {
     "name": "stdout",
     "output_type": "stream",
     "text": [
      "Peek: 1\n",
      "Pop: 1\n",
      "Is empty: False\n"
     ]
    }
   ],
   "source": [
    "class MyQueue:\n",
    "    def __init__(self):\n",
    "        self.stack1 = []\n",
    "        self.stack2 = []\n",
    "\n",
    "    def push(self, x):\n",
    "        self.stack1.append(x)\n",
    "\n",
    "    def pop(self):\n",
    "        if not self.stack2:\n",
    "            while self.stack1:\n",
    "                self.stack2.append(self.stack1.pop())\n",
    "        return self.stack2.pop()\n",
    "\n",
    "    def peek(self):\n",
    "        if self.stack2:\n",
    "            return self.stack2[-1]\n",
    "        return self.stack1[0]\n",
    "\n",
    "    def empty(self):\n",
    "        return not self.stack1 and not self.stack2\n",
    "\n",
    "# Example usage\n",
    "queue = MyQueue()\n",
    "queue.push(1)\n",
    "queue.push(2)\n",
    "print(\"Peek:\", queue.peek())  # Output: 1\n",
    "print(\"Pop:\", queue.pop())     # Output: 1\n",
    "print(\"Is empty:\", queue.empty())  # Output: False\n"
   ]
  },
  {
   "cell_type": "markdown",
   "metadata": {},
   "source": [
    "Kth Largest Element in an Array"
   ]
  },
  {
   "cell_type": "code",
   "execution_count": 51,
   "metadata": {},
   "outputs": [
    {
     "name": "stdout",
     "output_type": "stream",
     "text": [
      "Kth largest element: 5\n"
     ]
    }
   ],
   "source": [
    "import heapq\n",
    "\n",
    "def find_kth_largest(nums, k):\n",
    "    return heapq.nlargest(k, nums)[-1]\n",
    "\n",
    "# Example usage\n",
    "nums = [3, 2, 1, 5, 6, 4]\n",
    "k = 2\n",
    "result = find_kth_largest(nums, k)\n",
    "print(\"Kth largest element:\", result)  # Output: 5\n"
   ]
  },
  {
   "cell_type": "markdown",
   "metadata": {},
   "source": [
    "Rotate Image"
   ]
  },
  {
   "cell_type": "code",
   "execution_count": 53,
   "metadata": {},
   "outputs": [
    {
     "name": "stdout",
     "output_type": "stream",
     "text": [
      "Rotated image:\n",
      "[7, 4, 1]\n",
      "[8, 5, 2]\n",
      "[9, 6, 3]\n"
     ]
    }
   ],
   "source": [
    "def rotate(matrix):\n",
    "    n = len(matrix)\n",
    "    for i in range(n):\n",
    "        for j in range(i, n):\n",
    "            matrix[i][j], matrix[j][i] = matrix[j][i], matrix[i][j]\n",
    "    for i in range(n):\n",
    "        matrix[i].reverse()\n",
    "\n",
    "# Example usage\n",
    "matrix = [\n",
    "    [1, 2, 3],\n",
    "    [4, 5, 6],\n",
    "    [7, 8, 9]\n",
    "]\n",
    "rotate(matrix)\n",
    "print(\"Rotated image:\")\n",
    "for row in matrix:\n",
    "    print(row)  \n",
    "\n"
   ]
  },
  {
   "cell_type": "markdown",
   "metadata": {},
   "source": [
    "Deapth First Search"
   ]
  },
  {
   "cell_type": "code",
   "execution_count": 5,
   "metadata": {},
   "outputs": [
    {
     "name": "stdout",
     "output_type": "stream",
     "text": [
      "Graph with cycle has a cycle: True\n",
      "Graph without cycle has a cycle: False\n"
     ]
    }
   ],
   "source": [
    "def has_cycle(graph, node, visited, stack):\n",
    "    visited.add(node)\n",
    "    stack.add(node)\n",
    "    for neighbor in graph[node]:\n",
    "        if neighbor not in visited:\n",
    "            if has_cycle(graph, neighbor, visited, stack):\n",
    "                return True\n",
    "        elif neighbor in stack:\n",
    "            return True\n",
    "    stack.remove(node)\n",
    "    return False\n",
    "\n",
    "# Example graph with a cycle (0 -> 1 -> 2 -> 0)\n",
    "graph_with_cycle = {\n",
    "    0: [1],\n",
    "    1: [2],\n",
    "    2: [0]\n",
    "}\n",
    "\n",
    "# Example graph without a cycle (0 -> 1 -> 2)\n",
    "graph_without_cycle = {\n",
    "    0: [1],\n",
    "    1: [2],\n",
    "    2: []\n",
    "}\n",
    "\n",
    "# Function to check for a cycle in the entire graph\n",
    "def detect_cycle_in_graph(graph):\n",
    "    visited = set()\n",
    "    stack = set()\n",
    "    for node in graph:\n",
    "        if node not in visited:\n",
    "            if has_cycle(graph, node, visited, stack):\n",
    "                return True\n",
    "    return False\n",
    "\n",
    "# Test both graphs\n",
    "graph_with_cycle_result = detect_cycle_in_graph(graph_with_cycle)\n",
    "graph_without_cycle_result = detect_cycle_in_graph(graph_without_cycle)\n",
    "\n",
    "print(f\"Graph with cycle has a cycle: {graph_with_cycle_result}\")\n",
    "print(f\"Graph without cycle has a cycle: {graph_without_cycle_result}\")\n"
   ]
  },
  {
   "cell_type": "markdown",
   "metadata": {},
   "source": [
    "### System Design: Design a URL shortening service (like TinyURL).\n",
    "\n",
    "Components:\n",
    "\n",
    "API Layer: Accept long URLs and return a shortened version.\n",
    "\n",
    "Database: Store mappings of short URLs to original URLs. Use a key-value store like Redis for speed.\n",
    "\n",
    "URL Encoding: Use a base-62 encoding for the shortened URLs (a combination of alphanumeric characters) to generate unique IDs.\n",
    "\n",
    "Redirection Service: When a user visits a short URL, retrieve the original URL and redirect them.\n",
    "\n",
    "Flow:\n",
    "User submits a long URL.\n",
    "The system generates a unique short URL.\n",
    "The mapping is stored in the database.\n",
    "When the short URL is accessed, the original URL is retrieved and used for redirection.\n",
    "Additional Features: Analytics, custom URL aliases, expiration times.\n",
    "\n",
    "### How would you scale a real-time chat application?\n",
    "Use WebSockets for real-time, bidirectional communication.\n",
    "Load Balancing: Deploy multiple chat servers to handle requests and distribute traffic via a load balancer.\n",
    "\n",
    "Message Queue: Use a message queue (e.g., RabbitMQ) to decouple message sending from real-time updates to reduce server load.\n",
    "\n",
    "Database: Use a highly scalable database like Cassandra or DynamoDB to store chat history.\n",
    "\n",
    "Sharding: Split users into shards based on geography or other criteria to reduce server load.\n",
    "Scaling WebSocket Servers: Deploy multiple WebSocket servers behind a load balancer, and store session states in Redis for consistency.\n"
   ]
  },
  {
   "cell_type": "markdown",
   "metadata": {},
   "source": [
    "Maximum Depth of Binary Tree"
   ]
  },
  {
   "cell_type": "markdown",
   "metadata": {},
   "source": [
    "Kadane's Algorithm is a popular algorithm used to find the maximum sum of a contiguous subarray within a one-dimensional array of numbers. The key idea is to iterate through the array while maintaining the maximum sum that ends at each position."
   ]
  },
  {
   "cell_type": "markdown",
   "metadata": {},
   "source": [
    "### System Design Questions\n",
    "\n",
    "How would you design a distributed system to handle millions of concurrent users?\n",
    "\n",
    "Use load balancers to distribute traffic among multiple servers.\n",
    "Deploy microservices to break down functionality into independent services.\n",
    "Use horizontal scaling to add more servers as user demand grows.\n",
    "Implement caching (e.g., with Redis) to reduce load on databases.\n",
    "For storage, use scalable databases like Cassandra or DynamoDB.\n",
    "\n",
    "### Discuss the design of a load balancer. What considerations would you take?\n",
    "\n",
    "The load balancer should distribute traffic evenly among servers to prevent overload.\n",
    "Health checks: The load balancer should regularly check server health.\n",
    "Algorithms: Round-robin, least connections, or IP hash can be used to distribute traffic.\n",
    "Consider failover mechanisms to redirect traffic in case a server goes down."
   ]
  },
  {
   "cell_type": "markdown",
   "metadata": {},
   "source": [
    "### What are ACID properties in a database, and why are they important?\n",
    "\n",
    "Atomicity: Transactions are all-or-nothing.\n",
    "\n",
    "Consistency: The database remains in a valid state before and after a transaction.\n",
    "\n",
    "Isolation: Transactions don’t interfere with each other.\n",
    "\n",
    "Durability: Once a transaction is committed, it remains so even in case of a failure.\n",
    "\n",
    "### Explain the differences between SQL and NoSQL databases. When would you use each?\n",
    "\n",
    "SQL: Structured, relational, uses tables, supports ACID. Use when consistency and complex queries are needed.\n",
    "\n",
    "NoSQL: Unstructured, document or key-value based, scalable, good for large datasets. Use when scalability is more important than consistency."
   ]
  },
  {
   "cell_type": "markdown",
   "metadata": {},
   "source": [
    "# DATA STRUCTURES"
   ]
  },
  {
   "cell_type": "markdown",
   "metadata": {},
   "source": [
    "Fundamental Data Structures\n",
    "\n",
    "    Arrays:\n",
    "        Definition: Arrays are collections of elements (of the same data type) stored in contiguous memory locations.\n",
    "        Advantages: Direct access to elements using indices.\n",
    "        Disadvantages: Fixed size, inefficient insertions/deletions.\n",
    "        Time Complexities:\n",
    "            Access: O(1)\n",
    "            Insertion/Deletion: O(n) (for shifting elements)\n",
    "\n",
    "    Linked Lists:\n",
    "        Definition: A sequence of elements where each element points to the next. A linked list is dynamic and can grow or shrink in size.\n",
    "        Advantages: Dynamic sizing, efficient insertions/deletions.\n",
    "        Disadvantages: Slower access time (O(n)) since it requires traversal from the head.\n",
    "        Time Complexities:\n",
    "            Access: O(n)\n",
    "            Insertion/Deletion: O(1) (if the position is known)\n",
    "\n",
    "    Stacks:\n",
    "        Definition: A LIFO (Last In, First Out) data structure where elements are added and removed from the top.\n",
    "        Operations:\n",
    "            Push (add to the top): O(1)\n",
    "            Pop (remove from the top): O(1)\n",
    "        Usage: Undo functionality, recursion.\n",
    "\n",
    "    Queues:\n",
    "        Definition: A FIFO (First In, First Out) data structure where elements are added at the rear and removed from the front.\n",
    "        Operations:\n",
    "            Enqueue (add to the rear): O(1)\n",
    "            Dequeue (remove from the front): O(1)\n",
    "        Usage: Task scheduling, buffering.\n",
    "\n",
    "    Trees:\n",
    "        Definition: A hierarchical data structure with a root node and child nodes. Each node has a parent, and the structure branches out.\n",
    "        Types:\n",
    "            Binary Trees, Binary Search Trees (BST), AVL Trees, Heaps.\n",
    "        Advantages: Efficient searching and sorting (especially with BST).\n",
    "        Time Complexities (BST):\n",
    "            Search: O(log n) (if balanced), O(n) (if unbalanced)\n",
    "            Insertion/Deletion: O(log n) (if balanced), O(n) (if unbalanced)\n",
    "\n",
    "    Graphs:\n",
    "        Definition: A collection of nodes (vertices) connected by edges. Can be directed or undirected.\n",
    "        Types:\n",
    "            Directed, undirected, weighted, unweighted.\n",
    "        Usage: Representing networks, social connections, pathfinding.\n",
    "        Time Complexities:\n",
    "            BFS/DFS: O(V + E) where V is vertices and E is edges.\n",
    "\n",
    "Sorting and Searching\n",
    "Quicksort\n",
    "\n",
    "    Algorithm:\n",
    "        Pick a pivot element.\n",
    "        Partition the array such that elements less than the pivot are on the left and elements greater are on the right.\n",
    "        Recursively apply quicksort on the left and right partitions.\n",
    "    Time Complexity:\n",
    "        Best/Average case: O(n log n)\n",
    "        Worst case: O(n²) (if the pivot selection is poor)\n",
    "    Space Complexity: O(log n) due to recursion stack.\n",
    "\n",
    "Mergesort\n",
    "\n",
    "    Algorithm:\n",
    "        Divide the array into two halves.\n",
    "        Recursively sort both halves.\n",
    "        Merge the two sorted halves.\n",
    "    Time Complexity: O(n log n) for all cases.\n",
    "    Space Complexity: O(n) due to the additional array needed for merging.\n",
    "\n",
    "Binary Search\n",
    "\n",
    "    Algorithm:\n",
    "        Start with the middle element.\n",
    "        If the target is less than the middle, search the left half; otherwise, search the right half.\n",
    "        Repeat until the target is found or the search space is exhausted.\n",
    "\n",
    "    Time Complexity: O(log n) for a sorted array.\n",
    "\n",
    "    Space Complexity: O(1) for iterative binary search, O(log n) for recursive binary search."
   ]
  },
  {
   "cell_type": "markdown",
   "metadata": {},
   "source": [
    "Graph Algorithms\n",
    "BFS (Breadth-First Search)\n",
    "\n",
    "    Algorithm: Traverse the graph layer by layer using a queue. Visit all nodes at the current depth before moving to the next depth level.\n",
    "    Time Complexity: O(V + E)\n",
    "    Usage: Finding shortest paths in unweighted graphs.\n",
    "\n",
    "DFS (Depth-First Search)\n",
    "\n",
    "    Algorithm: Traverse the graph depth-wise using a stack or recursion. Visit as far down as possible along each branch before backtracking.\n",
    "    Time Complexity: O(V + E)\n",
    "    Usage: Detecting cycles, topological sorting.\n",
    "\n",
    "Dijkstra’s Algorithm\n",
    "\n",
    "    Algorithm: Finds the shortest path from a source node to all other nodes in a weighted graph.\n",
    "    Time Complexity: O((V + E) log V) using a priority queue (min-heap).\n",
    "    Usage: Shortest path finding in weighted graphs."
   ]
  },
  {
   "cell_type": "markdown",
   "metadata": {},
   "source": [
    "7. Explain the time and space complexity of common sorting algorithms:\n",
    "\n",
    "Bubble Sort:\n",
    "Time Complexity: O(n²) in the worst and average case, O(n) in the best case (if already sorted).\n",
    "Space Complexity: O(1) (in-place).\n",
    "\n",
    "Quick Sort:\n",
    "Time Complexity: O(n log n) on average, O(n²) in the worst case (when the pivot is poorly chosen).\n",
    "Space Complexity: O(log n) due to recursive stack calls (in-place).\n",
    "\n",
    "Merge Sort:\n",
    "Time Complexity: O(n log n) in all cases (due to the divide-and-conquer approach).\n",
    "Space Complexity: O(n) because it requires additional space for merging.\n",
    "\n",
    "Heap Sort:\n",
    "Time Complexity: O(n log n).\n",
    "Space Complexity: O(1) (in-place)."
   ]
  },
  {
   "cell_type": "markdown",
   "metadata": {},
   "source": [
    "# Data Types\n",
    "1. Primitive Data Types\n",
    "\n",
    "Primitive data types are the most basic data types provided by a programming language. They represent simple values and are usually predefined by the language. Here are common primitive data types found in most programming languages:\n",
    "\n",
    "    Integer (int): Used to represent whole numbers (e.g., 1, -5, 42).\n",
    "        Example: int age = 25;\n",
    "\n",
    "    Floating-point (float, double): Used to represent numbers with decimal points (e.g., 3.14, -0.01).\n",
    "        Example: float price = 19.99;\n",
    "\n",
    "    Character (char): Used to represent single characters (e.g., 'a', 'B', '$'). In some languages, characters are stored as integers using ASCII or Unicode.\n",
    "        Example: char grade = 'A';\n",
    "\n",
    "    Boolean (bool): Represents true or false values (often used in conditional statements).\n",
    "        Example: bool is_active = true;\n",
    "\n",
    "    String: Although not considered primitive in all languages, strings are often treated like a primitive type for convenience. They represent sequences of characters.\n",
    "        Example: string name = \"Alice\";\n",
    "        \n",
    "    Null: Represents the absence of a value. Some languages use null, None, or nil to represent this.\n",
    "        Example: Object obj = null;"
   ]
  },
  {
   "cell_type": "markdown",
   "metadata": {},
   "source": [
    "# OOPS IN PYTHON"
   ]
  },
  {
   "cell_type": "markdown",
   "metadata": {},
   "source": [
    "Object-Oriented Programming (OOP) is a programming paradigm based on the concept of \"objects,\" which can contain data and methods. The four fundamental concepts of OOP are Inheritance, Polymorphism, Encapsulation, and Abstraction."
   ]
  },
  {
   "cell_type": "markdown",
   "metadata": {},
   "source": [
    "## 1 Inheritance\n",
    "\n",
    "Inheritance allows a class (child class) to inherit attributes and methods from another class (parent class). It promotes code reusability and creates a hierarchy between classes.\n",
    "Definition:\n",
    "\n",
    "    Parent Class (Base Class): The class whose properties are inherited.\n",
    "    Child Class (Derived Class): The class that inherits properties from the parent class."
   ]
  },
  {
   "cell_type": "code",
   "execution_count": 35,
   "metadata": {},
   "outputs": [
    {
     "name": "stdout",
     "output_type": "stream",
     "text": [
      "Buddy barks.\n",
      "Whiskers meows.\n"
     ]
    }
   ],
   "source": [
    "# Parent Class\n",
    "class Animal:\n",
    "    def __init__(self, name):\n",
    "        self.name = name\n",
    "\n",
    "    def speak(self):\n",
    "        return f\"{self.name} makes a sound.\"\n",
    "\n",
    "# Child Class inheriting from Animal\n",
    "class Dog(Animal):\n",
    "    def speak(self):\n",
    "        return f\"{self.name} barks.\"\n",
    "\n",
    "# Child Class inheriting from Animal\n",
    "class Cat(Animal):\n",
    "    def speak(self):\n",
    "        return f\"{self.name} meows.\"\n",
    "\n",
    "# Creating instances\n",
    "dog = Dog(\"Buddy\")\n",
    "cat = Cat(\"Whiskers\")\n",
    "\n",
    "print(dog.speak())  # Output: Buddy barks.\n",
    "print(cat.speak())  # Output: Whiskers meows.\n"
   ]
  },
  {
   "cell_type": "markdown",
   "metadata": {},
   "source": [
    "## 2. Polymorphism\n",
    "\n",
    "Polymorphism means \"many forms,\" and it allows objects to be treated as instances of their parent class, even when they are actually instances of different child classes. It is often implemented through method overriding.\n",
    "Definition:\n",
    "\n",
    "    Method Overriding: A child class can provide a specific implementation of a method that is already defined in its parent class."
   ]
  },
  {
   "cell_type": "code",
   "execution_count": 36,
   "metadata": {},
   "outputs": [
    {
     "name": "stdout",
     "output_type": "stream",
     "text": [
      "Area: 16\n",
      "Area: 78.5\n"
     ]
    }
   ],
   "source": [
    "# Parent Class\n",
    "class Shape:\n",
    "    def area(self):\n",
    "        pass\n",
    "\n",
    "# Child Class 1\n",
    "class Square(Shape):\n",
    "    def __init__(self, side):\n",
    "        self.side = side\n",
    "    \n",
    "    def area(self):\n",
    "        return self.side ** 2\n",
    "\n",
    "# Child Class 2\n",
    "class Circle(Shape):\n",
    "    def __init__(self, radius):\n",
    "        self.radius = radius\n",
    "    \n",
    "    def area(self):\n",
    "        return 3.14 * self.radius ** 2\n",
    "\n",
    "# Function that uses polymorphism\n",
    "def print_area(shape):\n",
    "    print(f\"Area: {shape.area()}\")\n",
    "\n",
    "square = Square(4)\n",
    "circle = Circle(5)\n",
    "\n",
    "print_area(square)  # Output: Area: 16\n",
    "print_area(circle)  # Output: Area: 78.5\n"
   ]
  },
  {
   "cell_type": "markdown",
   "metadata": {},
   "source": [
    "## 3. Encapsulation\n",
    "\n",
    "Encapsulation refers to restricting direct access to some of an object’s components. It is the bundling of data and methods that operate on the data within a single unit (a class), and it restricts access to internal variables via public methods.\n",
    "\n",
    "Definition:\n",
    "\n",
    "    Private Attributes/Methods: Variables and methods that cannot be accessed directly from outside the class (usually marked with an underscore _ or double underscore __)./\n",
    "    "
   ]
  },
  {
   "cell_type": "code",
   "execution_count": 38,
   "metadata": {},
   "outputs": [
    {
     "name": "stdout",
     "output_type": "stream",
     "text": [
      "1300\n"
     ]
    }
   ],
   "source": [
    "class BankAccount:\n",
    "    def __init__(self, balance):\n",
    "        self.__balance = balance  # Private variable\n",
    "    \n",
    "    def deposit(self, amount):\n",
    "        if amount > 0:\n",
    "            self.__balance += amount\n",
    "    \n",
    "    def withdraw(self, amount):\n",
    "        if 0 < amount <= self.__balance:\n",
    "            self.__balance -= amount\n",
    "        else:\n",
    "            print(\"Insufficient funds\")\n",
    "    \n",
    "    def get_balance(self):\n",
    "        return self.__balance\n",
    "\n",
    "account = BankAccount(1000)\n",
    "account.deposit(500)\n",
    "account.withdraw(200)\n",
    "print(account.get_balance())  # Output: 1300\n",
    "\n",
    "\n"
   ]
  },
  {
   "cell_type": "markdown",
   "metadata": {},
   "source": [
    "## 4. Abstraction\n",
    "\n",
    "Abstraction involves hiding the internal details and showing only the essential features of an object. This is often achieved using abstract classes and methods.\n",
    "\n",
    "Definition:\n",
    "\n",
    "    Abstract Class: A class that cannot be instantiated and often contains abstract methods.\n",
    "    Abstract Method: A method that is declared, but contains no implementation (forcing child classes to implement it)"
   ]
  },
  {
   "cell_type": "code",
   "execution_count": 39,
   "metadata": {},
   "outputs": [
    {
     "name": "stdout",
     "output_type": "stream",
     "text": [
      "Car engine started.\n",
      "Motorcycle engine started.\n"
     ]
    }
   ],
   "source": [
    "from abc import ABC, abstractmethod\n",
    "\n",
    "# Abstract Class\n",
    "class Vehicle(ABC):\n",
    "    \n",
    "    @abstractmethod\n",
    "    def start_engine(self):\n",
    "        pass\n",
    "\n",
    "# Concrete Class implementing the abstract method\n",
    "class Car(Vehicle):\n",
    "    def start_engine(self):\n",
    "        print(\"Car engine started.\")\n",
    "\n",
    "# Concrete Class implementing the abstract method\n",
    "class Motorcycle(Vehicle):\n",
    "    def start_engine(self):\n",
    "        print(\"Motorcycle engine started.\")\n",
    "\n",
    "# Creating instances\n",
    "car = Car()\n",
    "motorcycle = Motorcycle()\n",
    "\n",
    "car.start_engine()        # Output: Car engine started.\n",
    "motorcycle.start_engine()  # Output: Motorcycle engine started.\n"
   ]
  },
  {
   "cell_type": "markdown",
   "metadata": {},
   "source": [
    "# Types of Inheritance "
   ]
  },
  {
   "cell_type": "markdown",
   "metadata": {},
   "source": [
    "## 1. Single Inheritance\n",
    "\n",
    "In single inheritance, a child class inherits from only one parent class. This is the most basic form of inheritance."
   ]
  },
  {
   "cell_type": "code",
   "execution_count": 40,
   "metadata": {},
   "outputs": [
    {
     "name": "stdout",
     "output_type": "stream",
     "text": [
      "Animal speaks\n",
      "Dog barks\n"
     ]
    }
   ],
   "source": [
    "# Parent class\n",
    "class Animal:\n",
    "    def speak(self):\n",
    "        return \"Animal speaks\"\n",
    "\n",
    "# Child class inheriting from Animal\n",
    "class Dog(Animal):\n",
    "    def bark(self):\n",
    "        return \"Dog barks\"\n",
    "\n",
    "# Creating instance of Dog\n",
    "dog = Dog()\n",
    "print(dog.speak())  # Output: Animal speaks\n",
    "print(dog.bark())   # Output: Dog barks\n"
   ]
  },
  {
   "cell_type": "markdown",
   "metadata": {},
   "source": [
    "## 2. Multiple Inheritance\n",
    "\n",
    "In multiple inheritance, a child class inherits from more than one parent class. The child class gets access to attributes and methods of all the parent classes."
   ]
  },
  {
   "cell_type": "code",
   "execution_count": 41,
   "metadata": {},
   "outputs": [
    {
     "name": "stdout",
     "output_type": "stream",
     "text": [
      "Father works\n",
      "Mother cooks\n",
      "Child plays\n"
     ]
    }
   ],
   "source": [
    "# Parent class 1\n",
    "class Father:\n",
    "    def work(self):\n",
    "        return \"Father works\"\n",
    "\n",
    "# Parent class 2\n",
    "class Mother:\n",
    "    def cook(self):\n",
    "        return \"Mother cooks\"\n",
    "\n",
    "# Child class inherits from both Father and Mother\n",
    "class Child(Father, Mother):\n",
    "    def play(self):\n",
    "        return \"Child plays\"\n",
    "\n",
    "# Creating instance of Child\n",
    "child = Child()\n",
    "print(child.work())  # Output: Father works\n",
    "print(child.cook())  # Output: Mother cooks\n",
    "print(child.play())  # Output: Child plays\n"
   ]
  },
  {
   "cell_type": "markdown",
   "metadata": {},
   "source": [
    "## 3. Multilevel Inheritance\n",
    "\n",
    "In multilevel inheritance, a class inherits from a derived class, creating a chain of inheritance. In other words, a class acts as both a child class and a parent class."
   ]
  },
  {
   "cell_type": "code",
   "execution_count": 42,
   "metadata": {},
   "outputs": [
    {
     "name": "stdout",
     "output_type": "stream",
     "text": [
      "Animal speaks\n",
      "Dog barks\n",
      "Puppy weeps\n"
     ]
    }
   ],
   "source": [
    "# Parent class\n",
    "class Animal:\n",
    "    def speak(self):\n",
    "        return \"Animal speaks\"\n",
    "\n",
    "# Child class inheriting from Animal\n",
    "class Dog(Animal):\n",
    "    def bark(self):\n",
    "        return \"Dog barks\"\n",
    "\n",
    "# Grandchild class inheriting from Dog\n",
    "class Puppy(Dog):\n",
    "    def weep(self):\n",
    "        return \"Puppy weeps\"\n",
    "\n",
    "# Creating instance of Puppy\n",
    "puppy = Puppy()\n",
    "print(puppy.speak())  # Output: Animal speaks\n",
    "print(puppy.bark())   # Output: Dog barks\n",
    "print(puppy.weep())   # Output: Puppy weeps\n"
   ]
  },
  {
   "cell_type": "markdown",
   "metadata": {},
   "source": [
    "## 4. Hierarchical Inheritance\n",
    "\n",
    "In hierarchical inheritance, multiple child classes inherit from a single parent class. This structure forms a hierarchy with one parent and several child classes."
   ]
  },
  {
   "cell_type": "code",
   "execution_count": 43,
   "metadata": {},
   "outputs": [
    {
     "name": "stdout",
     "output_type": "stream",
     "text": [
      "Animal speaks\n",
      "Dog barks\n",
      "Animal speaks\n",
      "Cat meows\n"
     ]
    }
   ],
   "source": [
    "# Parent class\n",
    "class Animal:\n",
    "    def speak(self):\n",
    "        return \"Animal speaks\"\n",
    "\n",
    "# Child class 1 inheriting from Animal\n",
    "class Dog(Animal):\n",
    "    def bark(self):\n",
    "        return \"Dog barks\"\n",
    "\n",
    "# Child class 2 inheriting from Animal\n",
    "class Cat(Animal):\n",
    "    def meow(self):\n",
    "        return \"Cat meows\"\n",
    "\n",
    "# Creating instances of Dog and Cat\n",
    "dog = Dog()\n",
    "cat = Cat()\n",
    "print(dog.speak())  # Output: Animal speaks\n",
    "print(dog.bark())   # Output: Dog barks\n",
    "print(cat.speak())  # Output: Animal speaks\n",
    "print(cat.meow())   # Output: Cat meows\n"
   ]
  },
  {
   "cell_type": "markdown",
   "metadata": {},
   "source": [
    "## 5. Hybrid Inheritance\n",
    "\n",
    "Hybrid inheritance is a combination of two or more types of inheritance. It usually involves a mix of single, multiple, hierarchical, or multilevel inheritance. Python supports hybrid inheritance, and it is often used in more complex scenarios."
   ]
  },
  {
   "cell_type": "code",
   "execution_count": 44,
   "metadata": {},
   "outputs": [
    {
     "name": "stdout",
     "output_type": "stream",
     "text": [
      "Animal speaks\n",
      "Dog barks\n",
      "Cat meows\n",
      "Hybrid growls\n"
     ]
    }
   ],
   "source": [
    "# Parent class\n",
    "class Animal:\n",
    "    def speak(self):\n",
    "        return \"Animal speaks\"\n",
    "\n",
    "# Child class 1 inheriting from Animal\n",
    "class Dog(Animal):\n",
    "    def bark(self):\n",
    "        return \"Dog barks\"\n",
    "\n",
    "# Child class 2 inheriting from Animal\n",
    "class Cat(Animal):\n",
    "    def meow(self):\n",
    "        return \"Cat meows\"\n",
    "\n",
    "# Another class inheriting from Dog and Cat\n",
    "class Hybrid(Dog, Cat):\n",
    "    def growl(self):\n",
    "        return \"Hybrid growls\"\n",
    "\n",
    "# Creating instance of Hybrid\n",
    "hybrid = Hybrid()\n",
    "print(hybrid.speak())  # Output: Animal speaks\n",
    "print(hybrid.bark())   # Output: Dog barks\n",
    "print(hybrid.meow())   # Output: Cat meows\n",
    "print(hybrid.growl())  # Output: Hybrid growls\n"
   ]
  },
  {
   "cell_type": "code",
   "execution_count": null,
   "metadata": {},
   "outputs": [],
   "source": []
  }
 ],
 "metadata": {
  "kernelspec": {
   "display_name": "Python 3",
   "language": "python",
   "name": "python3"
  },
  "language_info": {
   "codemirror_mode": {
    "name": "ipython",
    "version": 3
   },
   "file_extension": ".py",
   "mimetype": "text/x-python",
   "name": "python",
   "nbconvert_exporter": "python",
   "pygments_lexer": "ipython3",
   "version": "3.12.0"
  }
 },
 "nbformat": 4,
 "nbformat_minor": 2
}
